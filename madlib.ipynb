{
  "nbformat": 4,
  "nbformat_minor": 0,
  "metadata": {
    "colab": {
      "provenance": [],
      "authorship_tag": "ABX9TyMy8UJDz6+Id6Ay6ob0ZZAw",
      "include_colab_link": true
    },
    "kernelspec": {
      "name": "python3",
      "display_name": "Python 3"
    },
    "language_info": {
      "name": "python"
    }
  },
  "cells": [
    {
      "cell_type": "markdown",
      "metadata": {
        "id": "view-in-github",
        "colab_type": "text"
      },
      "source": [
        "<a href=\"https://colab.research.google.com/github/anishanif0012/project_4_assignments/blob/main/madlib.ipynb\" target=\"_parent\"><img src=\"https://colab.research.google.com/assets/colab-badge.svg\" alt=\"Open In Colab\"/></a>"
      ]
    },
    {
      "cell_type": "code",
      "execution_count": null,
      "metadata": {
        "colab": {
          "base_uri": "https://localhost:8080/"
        },
        "id": "zXuV6VPEDdbM",
        "outputId": "cd5e725d-67d4-468f-8a47-717354a56967"
      },
      "outputs": [
        {
          "output_type": "stream",
          "name": "stdout",
          "text": [
            "Adjective:amazing\n",
            "Verb:skydive\n",
            "Verb:jump\n",
            "Famous person:Captain America\n",
            "Computer programming is so amazing! it makes me so excited all the time because \n",
            "I love to skydive. Stay hydrated and jump like you are Captain America! \n"
          ]
        }
      ],
      "source": [
        "adj = input(\"Adjective:\")\n",
        "verb1 = input(\"Verb:\")\n",
        "verb2 = input(\"Verb:\")\n",
        "famous_person = input(\"Famous person:\")\n",
        "\n",
        "madlib = f\"\"\"Computer programming is so {adj}! it makes me so excited all the time because\n",
        "I love to {verb1}. Stay hydrated and {verb2} like you are {famous_person}! \"\"\"\n",
        "print(madlib)"
      ]
    }
  ]
}