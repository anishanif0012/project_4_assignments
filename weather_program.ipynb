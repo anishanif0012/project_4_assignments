{
  "nbformat": 4,
  "nbformat_minor": 0,
  "metadata": {
    "colab": {
      "provenance": [],
      "authorship_tag": "ABX9TyPosQHJPI0m4ZQrEISfQUeU",
      "include_colab_link": true
    },
    "kernelspec": {
      "name": "python3",
      "display_name": "Python 3"
    },
    "language_info": {
      "name": "python"
    }
  },
  "cells": [
    {
      "cell_type": "markdown",
      "metadata": {
        "id": "view-in-github",
        "colab_type": "text"
      },
      "source": [
        "<a href=\"https://colab.research.google.com/github/anishanif0012/project_4_assignments/blob/main/weather_program.ipynb\" target=\"_parent\"><img src=\"https://colab.research.google.com/assets/colab-badge.svg\" alt=\"Open In Colab\"/></a>"
      ]
    },
    {
      "cell_type": "code",
      "execution_count": 13,
      "metadata": {
        "colab": {
          "base_uri": "https://localhost:8080/"
        },
        "id": "cj8tcsaWF4yc",
        "outputId": "d10faa1c-1b58-44d8-8935-a0b5a64a5bf3"
      },
      "outputs": [
        {
          "output_type": "stream",
          "name": "stdout",
          "text": [
            "Enter a cityPakistan\n",
            "{'base': 'stations',\n",
            " 'clouds': {'all': 0},\n",
            " 'cod': 200,\n",
            " 'coord': {'lat': 30, 'lon': 70},\n",
            " 'dt': 1744547961,\n",
            " 'id': 1168579,\n",
            " 'main': {'feels_like': 299.33,\n",
            "          'grnd_level': 874,\n",
            "          'humidity': 17,\n",
            "          'pressure': 1008,\n",
            "          'sea_level': 1008,\n",
            "          'temp': 300.41,\n",
            "          'temp_max': 300.41,\n",
            "          'temp_min': 300.41},\n",
            " 'name': 'Pakistan',\n",
            " 'sys': {'country': 'PK', 'sunrise': 1744505721, 'sunset': 1744551919},\n",
            " 'timezone': 18000,\n",
            " 'visibility': 10000,\n",
            " 'weather': [{'description': 'clear sky',\n",
            "              'icon': '01d',\n",
            "              'id': 800,\n",
            "              'main': 'Clear'}],\n",
            " 'wind': {'deg': 136, 'gust': 4.14, 'speed': 3.52}}\n"
          ]
        }
      ],
      "source": [
        "import requests\n",
        "from pprint import pprint\n",
        "\n",
        "API_Key = \"98a51bf93e20a6a0e6b84fb3445ee277\"\n",
        "city = input(\"Enter a city\")\n",
        "base_url = \"http://api.openweathermap.org/data/2.5/weather?appid=\"+API_Key+\"&q=\"+city\n",
        "weather_data = requests.get(base_url).json()\n",
        "pprint(weather_data)"
      ]
    }
  ]
}