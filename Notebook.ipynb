{
 "cells": [
  {
   "cell_type": "code",
   "execution_count": 1,
   "id": "0858c8af",
   "metadata": {},
   "outputs": [
    {
     "name": "stdout",
     "output_type": "stream",
     "text": [
      "<Response [200]>\n"
     ]
    }
   ],
   "source": [
    "import requests\n",
    "response = requests.get(\"https://restcountries.com/v3/all\")\n",
    "print(response)"
   ]
  },
  {
   "cell_type": "code",
   "execution_count": 2,
   "id": "32e22139",
   "metadata": {},
   "outputs": [],
   "source": [
    "response = requests.get(\"https://restcountries.com/v3/name/turkey\")\n",
    "\n",
    "if response.status_code == 200:\n",
    "    date = response.json()\n",
    "else:\n",
    "    print(\"Error:\", response.status_code)    "
   ]
  }
 ],
 "metadata": {
  "kernelspec": {
   "display_name": "Python 3",
   "language": "python",
   "name": "python3"
  },
  "language_info": {
   "codemirror_mode": {
    "name": "ipython",
    "version": 3
   },
   "file_extension": ".py",
   "mimetype": "text/x-python",
   "name": "python",
   "nbconvert_exporter": "python",
   "pygments_lexer": "ipython3",
   "version": "3.13.2"
  }
 },
 "nbformat": 4,
 "nbformat_minor": 5
}
