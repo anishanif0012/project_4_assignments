{
  "nbformat": 4,
  "nbformat_minor": 0,
  "metadata": {
    "colab": {
      "provenance": [],
      "authorship_tag": "ABX9TyPKdZKyHBtKIVjxmd4rVi24",
      "include_colab_link": true
    },
    "kernelspec": {
      "name": "python3",
      "display_name": "Python 3"
    },
    "language_info": {
      "name": "python"
    }
  },
  "cells": [
    {
      "cell_type": "markdown",
      "metadata": {
        "id": "view-in-github",
        "colab_type": "text"
      },
      "source": [
        "<a href=\"https://colab.research.google.com/github/anishanif0012/project_4_assignments/blob/main/04_dictionaries.ipynb\" target=\"_parent\"><img src=\"https://colab.research.google.com/assets/colab-badge.svg\" alt=\"Open In Colab\"/></a>"
      ]
    },
    {
      "cell_type": "code",
      "execution_count": 1,
      "metadata": {
        "id": "HrgSWiumgyoD",
        "colab": {
          "base_uri": "https://localhost:8080/"
        },
        "outputId": "bb6619c4-9300-43b4-a02a-21d96011ce64"
      },
      "outputs": [
        {
          "output_type": "stream",
          "name": "stdout",
          "text": [
            "Enter a number: 4\n",
            "Enter a number: 6\n",
            "Enter a number: 1\n",
            "Enter a number: \n",
            "4 appears 1 times \n",
            "6 appears 1 times \n",
            "1 appears 1 times \n"
          ]
        }
      ],
      "source": [
        "def get_user_number():\n",
        "    user_number = []\n",
        "    while True:\n",
        "        user_input = input(\"Enter a number: \")\n",
        "        if user_input == \"\":\n",
        "            break\n",
        "        num = int(user_input)\n",
        "        user_number.append(num)\n",
        "    return user_number\n",
        "\n",
        "def count_num(num_lst):\n",
        "    num_dict = {}\n",
        "    for num in num_lst:\n",
        "        if num not in num_dict:\n",
        "            num_dict[num] = 1\n",
        "        else:\n",
        "            num_dict[num] += 1\n",
        "    return num_dict\n",
        "\n",
        "def print_count(num_dict):\n",
        "    for num in num_dict:\n",
        "        print(f\"{num} appears {num_dict[num]} times \")\n",
        "\n",
        "def main():\n",
        "    user_number = get_user_number()\n",
        "    num_dict = count_num(user_number)\n",
        "    print_count(num_dict)\n",
        "\n",
        "main()"
      ]
    },
    {
      "cell_type": "code",
      "source": [
        "def read_phone_numbers():\n",
        "  phonebook = {}\n",
        "  while True:\n",
        "    name = input(\"Name: \")\n",
        "    if name == \"\":\n",
        "      break\n",
        "    number = input(\"Number:\")\n",
        "    phonebook[name] = number\n",
        "  return phonebook\n",
        "\n",
        "def print_phonebook(phonebook):\n",
        "    for name in phonebook:\n",
        "      print(f\"{name}: {phonebook[name]}\")\n",
        "\n",
        "def lookup_numbers(phonebook):\n",
        "    while True:\n",
        "        name = input(\"Enter name to lookup: \")\n",
        "        if name == \"\":\n",
        "            break\n",
        "        if name not in phonebook:\n",
        "            print(f\"{name} is not in the phonebook\")\n",
        "        else:\n",
        "            print(phonebook[name])\n",
        "\n",
        "def main():\n",
        "    phonebook = read_phone_numbers()\n",
        "    print_phonebook(phonebook)\n",
        "    lookup_numbers(phonebook)\n",
        "main()"
      ],
      "metadata": {
        "id": "iRHkDIx3g5e0",
        "colab": {
          "base_uri": "https://localhost:8080/"
        },
        "outputId": "94ae6632-35e8-4636-ebf4-f8f4f08214ee"
      },
      "execution_count": 2,
      "outputs": [
        {
          "name": "stdout",
          "output_type": "stream",
          "text": [
            "Name: anis\n",
            "Number:8\n",
            "Name: hanif\n",
            "Number:10\n",
            "Name: \n",
            "anis: 8\n",
            "hanif: 10\n",
            "Enter name to lookup: anis\n",
            "8\n",
            "Enter name to lookup: \n"
          ]
        }
      ]
    },
    {
      "cell_type": "code",
      "source": [
        "from IPython.display import display, Markdown\n",
        "\n",
        "def main():\n",
        "  fruits = {'apple': 1.5, 'durian': 50, 'jackfruit': 80, 'kiwi': 1, 'rambutan': 1.5, 'mango': 5}\n",
        "  total_cost = 0\n",
        "  for fruit_name in fruits:\n",
        "      price = fruits[fruit_name]\n",
        "      amount_bought = int(input(f\"How many {fruit_name} do you want to buy?: \"))\n",
        "      total_cost += price * amount_bought\n",
        "  display(Markdown(f\"your total cost is: ***${total_cost}***\"))\n",
        "main()"
      ],
      "metadata": {
        "id": "0K6YTD7Sg8AN",
        "colab": {
          "base_uri": "https://localhost:8080/",
          "height": 150
        },
        "outputId": "cae9a7da-433f-4355-8b95-84f7937e23dd"
      },
      "execution_count": 3,
      "outputs": [
        {
          "name": "stdout",
          "output_type": "stream",
          "text": [
            "How many apple do you want to buy?: 1\n",
            "How many durian do you want to buy?: 1\n",
            "How many jackfruit do you want to buy?: 1\n",
            "How many kiwi do you want to buy?: 1\n",
            "How many rambutan do you want to buy?: 1\n",
            "How many mango do you want to buy?: 1\n"
          ]
        },
        {
          "output_type": "display_data",
          "data": {
            "text/plain": [
              "<IPython.core.display.Markdown object>"
            ],
            "text/markdown": "your total cost is: ***$139.0***"
          },
          "metadata": {}
        }
      ]
    },
    {
      "cell_type": "code",
      "source": [
        "from hashlib import sha256\n",
        "\n",
        "def login(email, stored_logins, password_to_check):\n",
        "    \"\"\"\n",
        "    Returns True if the hash of the password we are checking matches the one in stored_logins\n",
        "    for a specific email. Otherwise, returns False.\n",
        "\n",
        "    email: the email we are checking the password for\n",
        "    stored_logins: a dictionary pointing from an email to its hashed password\n",
        "    password_to_check: a password we want to test alongside the email to login with\n",
        "    \"\"\"\n",
        "    if stored_logins[email] == hash_password(password_to_check):\n",
        "        return True\n",
        "    return False\n",
        "# There is no need to edit code beyond this point\n",
        "def hash_password(password):\n",
        "    \"\"\"\n",
        "    Takes in a password and returns the SHA256 hashed value for that specific password.\n",
        "\n",
        "    Inputs:\n",
        "        password: the password we want\n",
        "\n",
        "    Outputs:\n",
        "        the hashed form of the input password\n",
        "    \"\"\"\n",
        "    return sha256(password.encode()).hexdigest()\n",
        "def main():\n",
        "    # stored_logins is a dictionary with emails as keys and hashed passwords as values\n",
        "    stored_logins = {\n",
        "        \"example@gmail.com\": \"5e884898da28047151d0e56f8dc6292773603d0d6aabbdd62a11ef721d1542d8\",\n",
        "        \"code_in_placer@cip.org\": \"973607a4ae7b4cf7d96a100b0fb07e8519cc4f70441d41214a9f811577bb06cc\",\n",
        "        \"student@stanford.edu\": \"882c6df720fd99f5eebb1581a1cf975625cea8a160283011c0b9512bb56c95fb\"\n",
        "    }\n",
        "\n",
        "    print(login(\"example@gmail.com\", stored_logins, \"word\"))\n",
        "    print(login(\"example@gmail.com\", stored_logins, \"password\"))\n",
        "\n",
        "    print(login(\"code_in_placer@cip.org\", stored_logins, \"Karel\"))\n",
        "    print(login(\"code_in_placer@cip.org\", stored_logins, \"karel\"))\n",
        "\n",
        "    print(login(\"student@stanford.edu\", stored_logins, \"password\"))\n",
        "    print(login(\"student@stanford.edu\", stored_logins, \"123!456?789\"))\n",
        "main()"
      ],
      "metadata": {
        "id": "eHGwFygqhCfH",
        "colab": {
          "base_uri": "https://localhost:8080/"
        },
        "outputId": "4844d7cf-7456-4f96-9bab-38b656b7699a"
      },
      "execution_count": 4,
      "outputs": [
        {
          "output_type": "stream",
          "name": "stdout",
          "text": [
            "False\n",
            "True\n",
            "False\n",
            "True\n",
            "False\n",
            "True\n"
          ]
        }
      ]
    }
  ]
}