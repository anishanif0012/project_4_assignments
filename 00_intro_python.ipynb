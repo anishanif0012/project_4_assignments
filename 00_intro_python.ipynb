{
  "nbformat": 4,
  "nbformat_minor": 0,
  "metadata": {
    "colab": {
      "provenance": [],
      "authorship_tag": "ABX9TyOwbL+wnp00gDekyUuXjdwq",
      "include_colab_link": true
    },
    "kernelspec": {
      "name": "python3",
      "display_name": "Python 3"
    },
    "language_info": {
      "name": "python"
    }
  },
  "cells": [
    {
      "cell_type": "markdown",
      "metadata": {
        "id": "view-in-github",
        "colab_type": "text"
      },
      "source": [
        "<a href=\"https://colab.research.google.com/github/anishanif0012/project_4_assignments/blob/main/00_intro_python.ipynb\" target=\"_parent\"><img src=\"https://colab.research.google.com/assets/colab-badge.svg\" alt=\"Open In Colab\"/></a>"
      ]
    },
    {
      "cell_type": "code",
      "execution_count": 1,
      "metadata": {
        "colab": {
          "base_uri": "https://localhost:8080/"
        },
        "id": "NH97D_T4Z9Fu",
        "outputId": "e204cc1f-97a1-4cb0-f32e-f9587f7fa9d3"
      },
      "outputs": [
        {
          "output_type": "stream",
          "name": "stdout",
          "text": [
            "This program adds two numbers.\n",
            "Enter first no: 5\n",
            "Enter second no: 5\n",
            "The Total sum is: 10\n"
          ]
        }
      ],
      "source": [
        "def main():\n",
        "    print(\"This program adds two numbers.\")\n",
        "    num1 = int(input(\"Enter first no: \"))\n",
        "    num2 = int(input(\"Enter second no: \"))\n",
        "    total_sum = num1 + num2\n",
        "    print(f\"The Total sum is: {total_sum}\")\n",
        "main()"
      ]
    },
    {
      "cell_type": "code",
      "source": [
        "from IPython.display import display, Markdown\n",
        "\n",
        "def main():\n",
        "    favourite_animal = input(\"What their favorite animal? \")\n",
        "    display(Markdown(f\"My favorite animal is also ***{favourite_animal}***! \"))\n",
        "main()"
      ],
      "metadata": {
        "colab": {
          "base_uri": "https://localhost:8080/",
          "height": 64
        },
        "id": "nTSDyW9AazrQ",
        "outputId": "4140ac26-404a-4d66-8977-a761b1fbc0b6"
      },
      "execution_count": 3,
      "outputs": [
        {
          "name": "stdout",
          "output_type": "stream",
          "text": [
            "What their favorite animal? cow\n"
          ]
        },
        {
          "output_type": "display_data",
          "data": {
            "text/plain": [
              "<IPython.core.display.Markdown object>"
            ],
            "text/markdown": "My favorite animal is also ***cow***! "
          },
          "metadata": {}
        }
      ]
    },
    {
      "cell_type": "code",
      "source": [
        "from IPython.display import display, Markdown\n",
        "\n",
        "def main():\n",
        "    degrees_fahrenheit: float = float(input(\"Enter temperature in Fahrenheit: \"))\n",
        "    degrees_celsius = (degrees_fahrenheit - 32) * 5.0 / 9.0\n",
        "    display(Markdown(f\"Temperature: ***{degrees_fahrenheit:.1f}\\u00B0F*** = ***{degrees_celsius:.15f}\\u00B0C***\"))\n",
        "\n",
        "main()"
      ],
      "metadata": {
        "colab": {
          "base_uri": "https://localhost:8080/",
          "height": 64
        },
        "id": "apbv5maea_yw",
        "outputId": "8f18e517-4d5c-4689-cadd-6f2e7b5403ee"
      },
      "execution_count": 4,
      "outputs": [
        {
          "name": "stdout",
          "output_type": "stream",
          "text": [
            "Enter temperature in Fahrenheit: 76\n"
          ]
        },
        {
          "output_type": "display_data",
          "data": {
            "text/plain": [
              "<IPython.core.display.Markdown object>"
            ],
            "text/markdown": "Temperature: ***76.0°F*** = ***24.444444444444443°C***"
          },
          "metadata": {}
        }
      ]
    },
    {
      "cell_type": "code",
      "source": [
        "def main():\n",
        "    anton_age: int = 21\n",
        "    beth_age: int = 6\n",
        "    chen_age: int = 20\n",
        "    drew_age: int = chen_age + anton_age\n",
        "    ethan_age: int = chen_age\n",
        "\n",
        "    print(f\"Anton is {anton_age}\")\n",
        "    print(f\"Beth is {beth_age}\")\n",
        "    print(f\"Chen is {chen_age}\")\n",
        "    print(f\"Drew is {drew_age}\")\n",
        "    print(f\"Ethan is {ethan_age}\")\n",
        "main()"
      ],
      "metadata": {
        "colab": {
          "base_uri": "https://localhost:8080/"
        },
        "id": "1Rz1AlDmbDhI",
        "outputId": "5f7612a8-b3a0-437c-bf19-13d78a4ad3d8"
      },
      "execution_count": 5,
      "outputs": [
        {
          "output_type": "stream",
          "name": "stdout",
          "text": [
            "Anton is 21\n",
            "Beth is 6\n",
            "Chen is 20\n",
            "Drew is 41\n",
            "Ethan is 20\n"
          ]
        }
      ]
    },
    {
      "cell_type": "code",
      "source": [
        "from IPython.display import display, Markdown\n",
        "\n",
        "def main():\n",
        "  side1: float = float(input(\"What is the length of side 1? \"))\n",
        "  side2: float = float(input(\"What is the length of side 2? \"))\n",
        "  side3: float = float(input(\"What is the length of side 3? \"))\n",
        "\n",
        "  perimeter: float = side1 + side2 + side3\n",
        "\n",
        "  display(Markdown(f\"The perimeter of the triangle is ***{perimeter}***\"))\n",
        "main()"
      ],
      "metadata": {
        "colab": {
          "base_uri": "https://localhost:8080/",
          "height": 98
        },
        "id": "WdGo_RbxbIkK",
        "outputId": "124d610e-8d7f-4ab0-bd4e-ae1fbc9e3386"
      },
      "execution_count": 6,
      "outputs": [
        {
          "name": "stdout",
          "output_type": "stream",
          "text": [
            "What is the length of side 1? 3\n",
            "What is the length of side 2? 4\n",
            "What is the length of side 3? 5.5\n"
          ]
        },
        {
          "output_type": "display_data",
          "data": {
            "text/plain": [
              "<IPython.core.display.Markdown object>"
            ],
            "text/markdown": "The perimeter of the triangle is ***12.5***"
          },
          "metadata": {}
        }
      ]
    },
    {
      "cell_type": "code",
      "source": [
        "from IPython.display import display, Markdown\n",
        "\n",
        "def main():\n",
        "  num: float = float(input(\"Enter a number to see its square: \"))\n",
        "  result: float = num**2\n",
        "  display(Markdown(f\"{num} squared is: ***{result}***\"))\n",
        "main()"
      ],
      "metadata": {
        "colab": {
          "base_uri": "https://localhost:8080/",
          "height": 64
        },
        "id": "hpcYTNwJbQeK",
        "outputId": "4d50eb4c-cc61-460b-dbf2-0075e10f84bc"
      },
      "execution_count": 7,
      "outputs": [
        {
          "name": "stdout",
          "output_type": "stream",
          "text": [
            "Enter a number to see its square: 2\n"
          ]
        },
        {
          "output_type": "display_data",
          "data": {
            "text/plain": [
              "<IPython.core.display.Markdown object>"
            ],
            "text/markdown": "2.0 squared is: ***4.0***"
          },
          "metadata": {}
        }
      ]
    }
  ]
}