{
  "nbformat": 4,
  "nbformat_minor": 0,
  "metadata": {
    "colab": {
      "provenance": [],
      "authorship_tag": "ABX9TyO1hCj+OXLdsPoMFIQAXQWT",
      "include_colab_link": true
    },
    "kernelspec": {
      "name": "python3",
      "display_name": "Python 3"
    },
    "language_info": {
      "name": "python"
    }
  },
  "cells": [
    {
      "cell_type": "markdown",
      "metadata": {
        "id": "view-in-github",
        "colab_type": "text"
      },
      "source": [
        "<a href=\"https://colab.research.google.com/github/anishanif0012/project_4_assignments/blob/main/guess_the_number_game_user.ipynb\" target=\"_parent\"><img src=\"https://colab.research.google.com/assets/colab-badge.svg\" alt=\"Open In Colab\"/></a>"
      ]
    },
    {
      "cell_type": "code",
      "source": [
        "import random\n",
        "\n",
        "def computer_guess(x):\n",
        "  low = 1\n",
        "  high = x\n",
        "  feedback = \"\"\n",
        "  while feedback != \"c\":\n",
        "    if low != high:\n",
        "      guess = random.randint(low, high)\n",
        "    else:\n",
        "      guess = low\n",
        "    feedback = input(f\"Is {guess} too high (H), too low (L), or correct (C)? \").lower()\n",
        "    if feedback == \"h\":\n",
        "      high = guess - 1\n",
        "    elif feedback == \"l\":\n",
        "      low = guess + 1\n",
        "  print(f\"Congrats! The computer guessed your number, {guess}, correctly!\")\n",
        "computer_guess(10)"
      ],
      "metadata": {
        "colab": {
          "base_uri": "https://localhost:8080/"
        },
        "id": "KOAANumSJ54D",
        "outputId": "17bb733f-4255-473e-faa9-1dd38952acb1"
      },
      "execution_count": null,
      "outputs": [
        {
          "name": "stdout",
          "output_type": "stream",
          "text": [
            "Is 7 too high (H), too low (L), or correct (C)? h\n",
            "Is 1 too high (H), too low (L), or correct (C)? l\n"
          ]
        }
      ]
    }
  ]
}