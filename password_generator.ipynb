{
  "nbformat": 4,
  "nbformat_minor": 0,
  "metadata": {
    "colab": {
      "provenance": [],
      "authorship_tag": "ABX9TyPcnSTJfgYqVdMEcRMKKRHc",
      "include_colab_link": true
    },
    "kernelspec": {
      "name": "python3",
      "display_name": "Python 3"
    },
    "language_info": {
      "name": "python"
    }
  },
  "cells": [
    {
      "cell_type": "markdown",
      "metadata": {
        "id": "view-in-github",
        "colab_type": "text"
      },
      "source": [
        "<a href=\"https://colab.research.google.com/github/anishanif0012/project_4_assignments/blob/main/password_generator.ipynb\" target=\"_parent\"><img src=\"https://colab.research.google.com/assets/colab-badge.svg\" alt=\"Open In Colab\"/></a>"
      ]
    },
    {
      "cell_type": "code",
      "execution_count": 2,
      "metadata": {
        "colab": {
          "base_uri": "https://localhost:8080/"
        },
        "id": "l8Nu4qxoIzHv",
        "outputId": "7426c6cd-eec2-4f18-b190-d96f835c5a49"
      },
      "outputs": [
        {
          "output_type": "stream",
          "name": "stdout",
          "text": [
            "Welcome to the number guessing game! \n",
            "Amount of password to generate: 1\n",
            "Input your password length: 8\n",
            "\n",
            "here are your passwords: \n",
            "qNilFlKa\n",
            "Thank you for playing! \n"
          ]
        }
      ],
      "source": [
        "import random\n",
        "\n",
        "print(\"Welcome to the number guessing game! \")\n",
        "\n",
        "chars = \"abcdefghijklmnopqrstuvwxyzABCDEFGHIJKLMNOPQRSTUVWXYZ!@#$%^&*()_+\"\n",
        "number = input(\"Amount of password to generate: \")\n",
        "number = int(number)\n",
        "\n",
        "length = input(\"Input your password length: \")\n",
        "length = int(length)\n",
        "\n",
        "print(\"\\nhere are your passwords: \")\n",
        "\n",
        "for password in range(number):\n",
        "    passwords = \"\"\n",
        "    for c in range(length):\n",
        "        passwords += random.choice(chars)\n",
        "    print(passwords)\n",
        "print(\"Thank you for playing! \")"
      ]
    }
  ]
}