{
  "nbformat": 4,
  "nbformat_minor": 0,
  "metadata": {
    "colab": {
      "provenance": [],
      "authorship_tag": "ABX9TyOMkc9DcA2CVPRnxLhLs+VX",
      "include_colab_link": true
    },
    "kernelspec": {
      "name": "python3",
      "display_name": "Python 3"
    },
    "language_info": {
      "name": "python"
    }
  },
  "cells": [
    {
      "cell_type": "markdown",
      "metadata": {
        "id": "view-in-github",
        "colab_type": "text"
      },
      "source": [
        "<a href=\"https://colab.research.google.com/github/anishanif0012/project_4_assignments/blob/main/rock_paper_scissors.ipynb\" target=\"_parent\"><img src=\"https://colab.research.google.com/assets/colab-badge.svg\" alt=\"Open In Colab\"/></a>"
      ]
    },
    {
      "cell_type": "code",
      "execution_count": 11,
      "metadata": {
        "colab": {
          "base_uri": "https://localhost:8080/"
        },
        "id": "O3X7tCAkPHPV",
        "outputId": "0098d453-253b-442e-80cc-32582a1f8c19"
      },
      "outputs": [
        {
          "output_type": "stream",
          "name": "stdout",
          "text": [
            "Whats your choice? 'r' for rock, 'p' for paper, 's' for scissors\n",
            "r\n",
            "It's a tie!\n"
          ]
        }
      ],
      "source": [
        "import random\n",
        "\n",
        "def play():\n",
        "  user = input(\"Whats your choice? 'r' for rock, 'p' for paper, 's' for scissors\\n\")\n",
        "  computer = random.choice(['r', 'p', 's'])\n",
        "  if user == computer:\n",
        "    return \"It's a tie!\"\n",
        "  if is_win(user, computer):\n",
        "    return \"You won!\"\n",
        "  return \"You lost!\"\n",
        "\n",
        "def is_win(player, opponent):\n",
        "  if (player == 'r' and opponent == 's') or (player == 's' and opponent == 'p') or (player == 'p' and opponent == 'r'):\n",
        "    return True\n",
        "print(play())"
      ]
    }
  ]
}