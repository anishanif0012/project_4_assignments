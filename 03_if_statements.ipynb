{
  "nbformat": 4,
  "nbformat_minor": 0,
  "metadata": {
    "colab": {
      "provenance": [],
      "authorship_tag": "ABX9TyMAJiF6B23a8dIPDCMGogKU",
      "include_colab_link": true
    },
    "kernelspec": {
      "name": "python3",
      "display_name": "Python 3"
    },
    "language_info": {
      "name": "python"
    }
  },
  "cells": [
    {
      "cell_type": "markdown",
      "metadata": {
        "id": "view-in-github",
        "colab_type": "text"
      },
      "source": [
        "<a href=\"https://colab.research.google.com/github/anishanif0012/project_4_assignments/blob/main/03_if_statements.ipynb\" target=\"_parent\"><img src=\"https://colab.research.google.com/assets/colab-badge.svg\" alt=\"Open In Colab\"/></a>"
      ]
    },
    {
      "cell_type": "code",
      "source": [
        "def main():\n",
        "  for i in range(20):\n",
        "    result = i * 2\n",
        "    print(result)\n",
        "main()"
      ],
      "metadata": {
        "id": "dScCaxghgKtX",
        "colab": {
          "base_uri": "https://localhost:8080/"
        },
        "outputId": "156c4a6d-1b78-4034-a267-40b584d11e6f"
      },
      "execution_count": 1,
      "outputs": [
        {
          "output_type": "stream",
          "name": "stdout",
          "text": [
            "0\n",
            "2\n",
            "4\n",
            "6\n",
            "8\n",
            "10\n",
            "12\n",
            "14\n",
            "16\n",
            "18\n",
            "20\n",
            "22\n",
            "24\n",
            "26\n",
            "28\n",
            "30\n",
            "32\n",
            "34\n",
            "36\n",
            "38\n"
          ]
        }
      ]
    },
    {
      "cell_type": "code",
      "source": [
        "Peturksbouipo: int = 16\n",
        "Stanlau: int = 20\n",
        "Mayengua: int = 48\n",
        "\n",
        "def main():\n",
        "  user_input = int(input(\"How old are you? \"))\n",
        "\n",
        "  if user_input >= Peturksbouipo:\n",
        "    print(f\"You can vote in Peturksbouipo where the voting age is {Peturksbouipo}. \")\n",
        "  else:\n",
        "    print(f\"You cannot vote in Peturksbouipo where the voting age is {Peturksbouipo} .\")\n",
        "\n",
        "  if user_input >= Stanlau:\n",
        "    print(f\"You can vote in Peturksbouipo where the voting age is {Stanlau}. \")\n",
        "  else:\n",
        "    print(f\"You cannot vote in Peturksbouipo where the voting age is {Stanlau} .\")\n",
        "\n",
        "  if user_input >= Mayengua:\n",
        "    print(f\"You can vote in Peturksbouipo where the voting age is {Mayengua}. \")\n",
        "  else:\n",
        "    print(f\"You cannot vote in Peturksbouipo where the voting age is {Mayengua} .\")\n",
        "\n",
        "main()"
      ],
      "metadata": {
        "id": "1xE7pJCygeIz",
        "colab": {
          "base_uri": "https://localhost:8080/"
        },
        "outputId": "d52e5488-e6bc-4d0b-c357-b8f21933091d"
      },
      "execution_count": 2,
      "outputs": [
        {
          "output_type": "stream",
          "name": "stdout",
          "text": [
            "How old are you? 16\n",
            "You can vote in Peturksbouipo where the voting age is 16. \n",
            "You cannot vote in Peturksbouipo where the voting age is 20 .\n",
            "You cannot vote in Peturksbouipo where the voting age is 48 .\n"
          ]
        }
      ]
    },
    {
      "cell_type": "code",
      "source": [
        "def main():\n",
        "    year = int(input('Please input a year: '))\n",
        "    if year % 4 == 0:\n",
        "        if year % 100 == 0:\n",
        "            if year % 400 == 0:\n",
        "                print(\"That's a leap year!\")\n",
        "            else:\n",
        "                print(\"That's not a leap year.\")\n",
        "        else:\n",
        "            print(\"That's a leap year!\")\n",
        "    else:\n",
        "        print(\"That's not a leap year.\")\n",
        "main()"
      ],
      "metadata": {
        "id": "Sfn7K9b8ghi_",
        "colab": {
          "base_uri": "https://localhost:8080/"
        },
        "outputId": "d8c78bc6-783a-47c3-f008-24fb70c94291"
      },
      "execution_count": 3,
      "outputs": [
        {
          "output_type": "stream",
          "name": "stdout",
          "text": [
            "Please input a year: 4\n",
            "That's a leap year!\n"
          ]
        }
      ]
    },
    {
      "cell_type": "code",
      "source": [
        "from IPython.display import display, Markdown\n",
        "\n",
        "MINIMUM_HEIGHT: int = 50\n",
        "\n",
        "def main():\n",
        "    while True:\n",
        "        user_input = float(input(\"How tall are you? \"))\n",
        "\n",
        "        if user_input >= MINIMUM_HEIGHT:\n",
        "            display(Markdown(\"***You're tall enough to ride!*** \"))\n",
        "            break\n",
        "        else:\n",
        "            display(Markdown(\"***You're not tall enough to ride! Try again.*** \"))\n",
        "main()"
      ],
      "metadata": {
        "id": "m3jrlCLTgiOQ",
        "colab": {
          "base_uri": "https://localhost:8080/",
          "height": 110
        },
        "outputId": "06e33609-b3d7-4356-9769-daea7b9b402c"
      },
      "execution_count": 4,
      "outputs": [
        {
          "name": "stdout",
          "output_type": "stream",
          "text": [
            "How tall are you? 48\n"
          ]
        },
        {
          "output_type": "display_data",
          "data": {
            "text/plain": [
              "<IPython.core.display.Markdown object>"
            ],
            "text/markdown": "***You're not tall enough to ride! Try again.*** "
          },
          "metadata": {}
        },
        {
          "name": "stdout",
          "output_type": "stream",
          "text": [
            "How tall are you? 50\n"
          ]
        },
        {
          "output_type": "display_data",
          "data": {
            "text/plain": [
              "<IPython.core.display.Markdown object>"
            ],
            "text/markdown": "***You're tall enough to ride!*** "
          },
          "metadata": {}
        }
      ]
    },
    {
      "cell_type": "code",
      "source": [
        "import random\n",
        "\n",
        "MIN_VALUE : int = 1\n",
        "MAX_VALUE : int = 100\n",
        "\n",
        "def main():\n",
        "  for _ in range(10):\n",
        "    print(random.randint(MIN_VALUE, MAX_VALUE ), end=\" \")\n",
        "main()"
      ],
      "metadata": {
        "id": "eSCPnHnMgk0d",
        "colab": {
          "base_uri": "https://localhost:8080/"
        },
        "outputId": "afce56a5-c361-433a-ae53-65e0a11922e2"
      },
      "execution_count": 5,
      "outputs": [
        {
          "output_type": "stream",
          "name": "stdout",
          "text": [
            "71 98 84 69 65 15 68 76 58 98 "
          ]
        }
      ]
    }
  ]
}