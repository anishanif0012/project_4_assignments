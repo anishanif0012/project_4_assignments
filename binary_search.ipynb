{
  "nbformat": 4,
  "nbformat_minor": 0,
  "metadata": {
    "colab": {
      "provenance": [],
      "authorship_tag": "ABX9TyMuMXqFgCD+l3/f2/2TymOC",
      "include_colab_link": true
    },
    "kernelspec": {
      "name": "python3",
      "display_name": "Python 3"
    },
    "language_info": {
      "name": "python"
    }
  },
  "cells": [
    {
      "cell_type": "markdown",
      "metadata": {
        "id": "view-in-github",
        "colab_type": "text"
      },
      "source": [
        "<a href=\"https://colab.research.google.com/github/anishanif0012/project_4_assignments/blob/main/binary_search.ipynb\" target=\"_parent\"><img src=\"https://colab.research.google.com/assets/colab-badge.svg\" alt=\"Open In Colab\"/></a>"
      ]
    },
    {
      "cell_type": "code",
      "execution_count": 1,
      "metadata": {
        "colab": {
          "base_uri": "https://localhost:8080/"
        },
        "id": "QOjpexLN8MyL",
        "outputId": "7e651eed-3791-46a7-e578-465509adcb74"
      },
      "outputs": [
        {
          "output_type": "stream",
          "name": "stdout",
          "text": [
            "Naive search time:  6.507350444793701 seconds\n",
            "Binary search time:  0.06816959381103516 seconds\n"
          ]
        }
      ],
      "source": [
        "import random\n",
        "import time\n",
        "\n",
        "# Implementation of binary search algorithm!!\n",
        "\n",
        "# We will prove that binary search is faster than naive search!\n",
        "\n",
        "\n",
        "# Essence of binary search:\n",
        "# If you have a sorted list and you want to search this array for something,\n",
        "# You could go through each item in the list and ask, is this equal to what we're looking for?\n",
        "# But we can make this *faster* by leveraging the fact that our array is sorted!\n",
        "# Binary search ~ O(log(n)), naive search ~ O(n)\n",
        "\n",
        "# In these two examples, l is a list in ascending order, and target is something that we're looking for\n",
        "# Return -1 if not found\n",
        "\n",
        "\n",
        "# naive search: scan entire list and ask if its equal to the target\n",
        "# if yes, return the index\n",
        "# if no, then return -1\n",
        "def naive_search(l, target):\n",
        "    # example l = [1, 3, 10, 12]\n",
        "    for i in range(len(l)):\n",
        "        if l[i] == target:\n",
        "            return i\n",
        "    return -1\n",
        "\n",
        "# binary search uses divide and conquer!\n",
        "# we will leverage the fact that our list is SORTED\n",
        "def binary_search(l, target, low=None, high=None):\n",
        "    if low is None:\n",
        "        low = 0\n",
        "    if high is None:\n",
        "        high = len(l) - 1\n",
        "    if high < low:\n",
        "        return -1\n",
        "\n",
        "    # example l = [1, 3, 5, 10, 12]  # should return 3\n",
        "    midpoint = (low + high) // 2  # 2\n",
        "\n",
        "    # we'll check if l[midpoint] == target, and if not, we can find out if\n",
        "    # target will be to the left or right of midpoint\n",
        "    # we know everything to the left of midpoint is smaller than the midpoint\n",
        "    # and everything to the right is larger\n",
        "    if l[midpoint] == target:\n",
        "        return midpoint\n",
        "    elif target < l[midpoint]:\n",
        "        return binary_search(l, target, low, midpoint-1)\n",
        "    else:\n",
        "        # target > l[midpoint]\n",
        "        return binary_search(l, target, midpoint+1, high)\n",
        "\n",
        "if __name__=='__main__':\n",
        "    # l = [1, 3, 5, 10, 12]\n",
        "    # target = 7\n",
        "    # print(naive_search(l, target))\n",
        "    # print(binary_search(l, target))\n",
        "\n",
        "    length = 10000\n",
        "    # build a sorted list of length 10000\n",
        "    sorted_list = set()\n",
        "    while len(sorted_list) < length:\n",
        "        sorted_list.add(random.randint(-3*length, 3*length))\n",
        "    sorted_list = sorted(list(sorted_list))\n",
        "\n",
        "    start = time.time()\n",
        "    for target in sorted_list:\n",
        "        naive_search(sorted_list, target)\n",
        "    end = time.time()\n",
        "    print(\"Naive search time: \", (end - start), \"seconds\")\n",
        "\n",
        "    start = time.time()\n",
        "    for target in sorted_list:\n",
        "        binary_search(sorted_list, target)\n",
        "    end = time.time()\n",
        "    print(\"Binary search time: \", (end - start), \"seconds\")"
      ]
    }
  ]
}