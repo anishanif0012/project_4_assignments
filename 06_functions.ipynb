{
  "nbformat": 4,
  "nbformat_minor": 0,
  "metadata": {
    "colab": {
      "provenance": [],
      "authorship_tag": "ABX9TyP614jgAaqnMVEp0taMc4Ga",
      "include_colab_link": true
    },
    "kernelspec": {
      "name": "python3",
      "display_name": "Python 3"
    },
    "language_info": {
      "name": "python"
    }
  },
  "cells": [
    {
      "cell_type": "markdown",
      "metadata": {
        "id": "view-in-github",
        "colab_type": "text"
      },
      "source": [
        "<a href=\"https://colab.research.google.com/github/anishanif0012/project_4_assignments/blob/main/06_functions.ipynb\" target=\"_parent\"><img src=\"https://colab.research.google.com/assets/colab-badge.svg\" alt=\"Open In Colab\"/></a>"
      ]
    },
    {
      "cell_type": "code",
      "execution_count": 1,
      "metadata": {
        "id": "WLqb-s92h1uL",
        "colab": {
          "base_uri": "https://localhost:8080/"
        },
        "outputId": "fcadc865-1b4b-495c-f030-dc27bb4284fd"
      },
      "outputs": [
        {
          "output_type": "stream",
          "name": "stdout",
          "text": [
            "7.0\n"
          ]
        }
      ],
      "source": [
        "def average(a: float, b: float):\n",
        "  sum = a + b\n",
        "  return sum / 2\n",
        "def main():\n",
        "  avg_1 = average(0, 10)\n",
        "  avg_2 = average(8, 10)\n",
        "  final = average(avg_1, avg_2)\n",
        "  print(final)\n",
        "main()"
      ]
    },
    {
      "cell_type": "code",
      "source": [
        "import random\n",
        "\n",
        "DONE_LIKELIHOOD = 0.3\n",
        "\n",
        "def chaotic_counting():\n",
        "  for i in range(10):\n",
        "    curr_num = i + 1\n",
        "    if done():\n",
        "      return\n",
        "    print(curr_num)\n",
        "def done():\n",
        "  if random.random() > DONE_LIKELIHOOD:\n",
        "    return True\n",
        "  return False\n",
        "def main():\n",
        "  print(\"I'm going to count until 10 or until I feel like stopping, whichever comes first.\")\n",
        "  chaotic_counting()\n",
        "  print(\"I'm done\")\n",
        "main()"
      ],
      "metadata": {
        "id": "9Izw6zVLh-hn",
        "colab": {
          "base_uri": "https://localhost:8080/"
        },
        "outputId": "3406ba7d-4116-4601-aa31-b2a07065aa7f"
      },
      "execution_count": 3,
      "outputs": [
        {
          "output_type": "stream",
          "name": "stdout",
          "text": [
            "I'm going to count until 10 or until I feel like stopping, whichever comes first.\n",
            "I'm done\n"
          ]
        }
      ]
    },
    {
      "cell_type": "code",
      "source": [
        "def count_even(lst):\n",
        "  count = 0\n",
        "  for num in lst:\n",
        "    if num % 2 == 0:\n",
        "      count += 1\n",
        "  print(count)\n",
        "def get_list_of_ints():\n",
        "  lst = []\n",
        "  user_input = input(\"Enter an integer or press enter to stop: \")\n",
        "  while user_input != \"\":\n",
        "    lst.append(int(user_input))\n",
        "    user_input = input(\"Enter an integer or press enter to stop: \")\n",
        "\n",
        "  return lst\n",
        "def main():\n",
        "    lst = get_list_of_ints()\n",
        "    count_even(lst)\n",
        "main()"
      ],
      "metadata": {
        "colab": {
          "base_uri": "https://localhost:8080/"
        },
        "id": "ffCFaWoKnq7K",
        "outputId": "84313c98-9e66-43a4-ca7c-d45c5e18c52a"
      },
      "execution_count": 6,
      "outputs": [
        {
          "output_type": "stream",
          "name": "stdout",
          "text": [
            "Enter an integer or press enter to stop: 1\n",
            "Enter an integer or press enter to stop: 2\n",
            "Enter an integer or press enter to stop: \n",
            "1\n"
          ]
        }
      ]
    },
    {
      "cell_type": "code",
      "source": [
        "from IPython.display import display, Markdown\n",
        "\n",
        "def double(num: int):\n",
        "  return num * 2\n",
        "def main():\n",
        "  num = int(input(\"Enter a number: \"))\n",
        "  num_times_2 = double(num)\n",
        "  display(Markdown(f\"Double that is ***{num_times_2}***\"))\n",
        "main()"
      ],
      "metadata": {
        "id": "r1HKzwW0h--F",
        "colab": {
          "base_uri": "https://localhost:8080/",
          "height": 64
        },
        "outputId": "28c15c73-866a-4cc4-83e9-dbe24cb98332"
      },
      "execution_count": 7,
      "outputs": [
        {
          "name": "stdout",
          "output_type": "stream",
          "text": [
            "Enter a number: 2\n"
          ]
        },
        {
          "output_type": "display_data",
          "data": {
            "text/plain": [
              "<IPython.core.display.Markdown object>"
            ],
            "text/markdown": "Double that is ***4***"
          },
          "metadata": {}
        }
      ]
    },
    {
      "cell_type": "code",
      "source": [
        "def get_name():\n",
        "  return \"Sophia\"\n",
        "def main():\n",
        "  name = get_name()\n",
        "  print(f\"Howdy {name}! 🤠\")\n",
        "main()"
      ],
      "metadata": {
        "id": "sR3GFp9ch_Fq",
        "colab": {
          "base_uri": "https://localhost:8080/"
        },
        "outputId": "4f5c2ea9-c7d6-473b-cff1-650a0d3a9e93"
      },
      "execution_count": 8,
      "outputs": [
        {
          "output_type": "stream",
          "name": "stdout",
          "text": [
            "Howdy Sophia! 🤠\n"
          ]
        }
      ]
    },
    {
      "cell_type": "code",
      "source": [
        "def main():\n",
        "  for i in range(10):\n",
        "    if is_odd(i):\n",
        "      print('odd')\n",
        "    else:\n",
        "      print('even')\n",
        "def is_odd(value: int):\n",
        "  remainder = value % 2\n",
        "  return remainder == 1\n",
        "main()"
      ],
      "metadata": {
        "id": "_O6W_3LCh_NN",
        "colab": {
          "base_uri": "https://localhost:8080/"
        },
        "outputId": "f19713c6-b874-40d7-e98b-d133edb3f549"
      },
      "execution_count": 9,
      "outputs": [
        {
          "output_type": "stream",
          "name": "stdout",
          "text": [
            "even\n",
            "odd\n",
            "even\n",
            "odd\n",
            "even\n",
            "odd\n",
            "even\n",
            "odd\n",
            "even\n",
            "odd\n"
          ]
        }
      ]
    },
    {
      "cell_type": "code",
      "source": [
        "def print_divisors(num: int):\n",
        "    print(f\"Here are the divisors of {num}\")\n",
        "    for i in range(num):\n",
        "        curr_divisor = i + 1\n",
        "        if num % curr_divisor == 0:\n",
        "            print(curr_divisor)\n",
        "def main():\n",
        "    num = int(input(\"Enter a number: \"))\n",
        "    print_divisors(num)\n",
        "main()"
      ],
      "metadata": {
        "id": "NtjGmkQah_UD",
        "colab": {
          "base_uri": "https://localhost:8080/"
        },
        "outputId": "baa93876-406e-40a1-f650-19fe65b40339"
      },
      "execution_count": 10,
      "outputs": [
        {
          "output_type": "stream",
          "name": "stdout",
          "text": [
            "Enter a number: 12\n",
            "Here are the divisors of 12\n",
            "1\n",
            "2\n",
            "3\n",
            "4\n",
            "6\n",
            "12\n"
          ]
        }
      ]
    },
    {
      "cell_type": "code",
      "source": [
        "def print_multiple(message: str, repeats: int):\n",
        "  for i in range(repeats):\n",
        "    print(message)\n",
        "def main():\n",
        "  message = input(\"Please type a message: \")\n",
        "  repeats = int(input(\"Enter a number of times to repeat your message: \"))\n",
        "  print_multiple(message, repeats)\n",
        "main()"
      ],
      "metadata": {
        "id": "D9D1wtlah_aj",
        "colab": {
          "base_uri": "https://localhost:8080/"
        },
        "outputId": "2cc3f477-4a10-44e1-e2ad-7dc1174e141c"
      },
      "execution_count": 11,
      "outputs": [
        {
          "output_type": "stream",
          "name": "stdout",
          "text": [
            "Please type a message: Hello\n",
            "Enter a number of times to repeat your message: 6\n",
            "Hello\n",
            "Hello\n",
            "Hello\n",
            "Hello\n",
            "Hello\n",
            "Hello\n"
          ]
        }
      ]
    },
    {
      "cell_type": "code",
      "source": [
        "def make_sentence(word, part_of_speech):\n",
        "    if part_of_speech == 0:\n",
        "        print(f\"I am excited to add this {word} to my vast collection of them!\")\n",
        "    elif part_of_speech == 1:\n",
        "        print(f\"It's so nice outside today it makes me want to {word}!\")\n",
        "    elif part_of_speech == 2:\n",
        "        print(f\"Looking out my window, the sky is big and {word}!\")\n",
        "    else:\n",
        "        print(\"Part of speech must be 0, 1, or 2! Can't make a sentence.\")\n",
        "def main():\n",
        "    word :  str = input(\"Please type a noun, verb, or adjective: \")\n",
        "    print(\"Is this a noun, verb, or adjective?\")\n",
        "    part_of_speech = int(input(\"Type 0 for noun, 1 for verb, 2 for adjective: \"))\n",
        "    make_sentence(word, part_of_speech)\n",
        "main()"
      ],
      "metadata": {
        "id": "AFc0xOSoh_hO",
        "colab": {
          "base_uri": "https://localhost:8080/"
        },
        "outputId": "f432a79a-02f0-43a7-ccaf-05cd47556804"
      },
      "execution_count": 12,
      "outputs": [
        {
          "output_type": "stream",
          "name": "stdout",
          "text": [
            "Please type a noun, verb, or adjective: 0\n",
            "Is this a noun, verb, or adjective?\n",
            "Type 0 for noun, 1 for verb, 2 for adjective: 1\n",
            "It's so nice outside today it makes me want to 0!\n"
          ]
        }
      ]
    },
    {
      "cell_type": "code",
      "source": [
        "def print_ones_digit(num):\n",
        "  print(f\"The ones digit is {num % 10}\")\n",
        "def main():\n",
        "  num = int(input(\"Enter a number: \"))\n",
        "  print_ones_digit(num)\n",
        "main()"
      ],
      "metadata": {
        "id": "m4hyQnpKh_n1",
        "colab": {
          "base_uri": "https://localhost:8080/"
        },
        "outputId": "a9090d2c-cda7-4501-9aaa-145b57f4165f"
      },
      "execution_count": 13,
      "outputs": [
        {
          "output_type": "stream",
          "name": "stdout",
          "text": [
            "Enter a number: 42\n",
            "The ones digit is 2\n"
          ]
        }
      ]
    }
  ]
}