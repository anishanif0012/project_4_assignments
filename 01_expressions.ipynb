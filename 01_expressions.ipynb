{
  "nbformat": 4,
  "nbformat_minor": 0,
  "metadata": {
    "colab": {
      "provenance": [],
      "authorship_tag": "ABX9TyNImacoe/ZL4ukVTMxSHV5E",
      "include_colab_link": true
    },
    "kernelspec": {
      "name": "python3",
      "display_name": "Python 3"
    },
    "language_info": {
      "name": "python"
    }
  },
  "cells": [
    {
      "cell_type": "markdown",
      "metadata": {
        "id": "view-in-github",
        "colab_type": "text"
      },
      "source": [
        "<a href=\"https://colab.research.google.com/github/anishanif0012/project_4_assignments/blob/main/01_expressions.ipynb\" target=\"_parent\"><img src=\"https://colab.research.google.com/assets/colab-badge.svg\" alt=\"Open In Colab\"/></a>"
      ]
    },
    {
      "cell_type": "code",
      "execution_count": 1,
      "metadata": {
        "colab": {
          "base_uri": "https://localhost:8080/"
        },
        "id": "HjTDdtWpcxoS",
        "outputId": "9bc8859c-2cea-4f3c-c0b2-24a6d7073b02"
      },
      "outputs": [
        {
          "output_type": "stream",
          "name": "stdout",
          "text": [
            "dice1 in main() starts as: 10\n",
            "Total of two dice is 6\n",
            "Total of two dice is 9\n",
            "Total of two dice is 6\n",
            "dice1 in main() is: 10\n"
          ]
        }
      ],
      "source": [
        "import random\n",
        "\n",
        "NUM_SIDES = 6\n",
        "\n",
        "def roll_dice():\n",
        "  dice1: int = random.randint(1, NUM_SIDES)\n",
        "  dice2: int = random.randint(1, NUM_SIDES)\n",
        "  total: int = dice1 + dice2\n",
        "  print(f\"Total of two dice is {total}\")\n",
        "\n",
        "def main():\n",
        "  dice1: int = 10\n",
        "  print(f\"dice1 in main() starts as: {dice1}\")\n",
        "  roll_dice()\n",
        "  roll_dice()\n",
        "  roll_dice()\n",
        "  print(f\"dice1 in main() is: {dice1}\")\n",
        "main()"
      ]
    },
    {
      "cell_type": "code",
      "source": [
        "from IPython.display import display, Markdown\n",
        "\n",
        "def main():\n",
        "  mass_in_kg: float = float(input(\"Enter kilos of mass: \"))\n",
        "  C = 299792458\n",
        "  energy_in_joules: float = mass_in_kg * (C ** 2)\n",
        "\n",
        "  display(Markdown(\"***e = m * C^2...***\"))\n",
        "  display(Markdown(f\"M = ***{mass_in_kg} kg***\"))\n",
        "  display(Markdown(f\"C = ***{C} m/s***\"))\n",
        "  display(Markdown(f\"***{energy_in_joules}*** joules of energy! \"))\n",
        "main()"
      ],
      "metadata": {
        "colab": {
          "base_uri": "https://localhost:8080/",
          "height": 134
        },
        "id": "Tgth8MkFdEf7",
        "outputId": "9aeeee2f-19e2-40ca-afcb-e69c97536224"
      },
      "execution_count": 2,
      "outputs": [
        {
          "name": "stdout",
          "output_type": "stream",
          "text": [
            "Enter kilos of mass: 100\n"
          ]
        },
        {
          "output_type": "display_data",
          "data": {
            "text/plain": [
              "<IPython.core.display.Markdown object>"
            ],
            "text/markdown": "***e = m * C^2...***"
          },
          "metadata": {}
        },
        {
          "output_type": "display_data",
          "data": {
            "text/plain": [
              "<IPython.core.display.Markdown object>"
            ],
            "text/markdown": "M = ***100.0 kg***"
          },
          "metadata": {}
        },
        {
          "output_type": "display_data",
          "data": {
            "text/plain": [
              "<IPython.core.display.Markdown object>"
            ],
            "text/markdown": "C = ***299792458 m/s***"
          },
          "metadata": {}
        },
        {
          "output_type": "display_data",
          "data": {
            "text/plain": [
              "<IPython.core.display.Markdown object>"
            ],
            "text/markdown": "***8.987551787368176e+18*** joules of energy! "
          },
          "metadata": {}
        }
      ]
    },
    {
      "cell_type": "code",
      "source": [
        "INCHES_TO_FOOT = 12\n",
        "\n",
        "def main():\n",
        "  feet: float = float(input(\"Enter the number of feet: \"))\n",
        "  inches: float = feet * INCHES_TO_FOOT\n",
        "  print(f\"Its {inches} inches!\")\n",
        "main()"
      ],
      "metadata": {
        "colab": {
          "base_uri": "https://localhost:8080/"
        },
        "id": "8xnR8GvCdJeW",
        "outputId": "6542be58-97a6-454d-e17d-6fecbe84bfed"
      },
      "execution_count": 3,
      "outputs": [
        {
          "output_type": "stream",
          "name": "stdout",
          "text": [
            "Enter the number of feet: 1\n",
            "Its 12.0 inches!\n"
          ]
        }
      ]
    },
    {
      "cell_type": "code",
      "source": [
        "import math\n",
        "from IPython.display import display, Markdown\n",
        "\n",
        "def main():\n",
        "  ab: float = float(input(\"Enter the length of AB: \"))\n",
        "  ac: float = float(input(\"Enter the length of AC: \"))\n",
        "\n",
        "  bc: float = math.sqrt(ab**2 + ac**2)\n",
        "  display(Markdown(f\"The length of BC (the hypotenuse) is: ***{bc}***\"))\n",
        "main()"
      ],
      "metadata": {
        "colab": {
          "base_uri": "https://localhost:8080/",
          "height": 81
        },
        "id": "OCPF7FGxdQJ-",
        "outputId": "69e2a650-1a11-4045-f996-ad7618c5abd6"
      },
      "execution_count": 4,
      "outputs": [
        {
          "name": "stdout",
          "output_type": "stream",
          "text": [
            "Enter the length of AB: 3\n",
            "Enter the length of AC: 4\n"
          ]
        },
        {
          "output_type": "display_data",
          "data": {
            "text/plain": [
              "<IPython.core.display.Markdown object>"
            ],
            "text/markdown": "The length of BC (the hypotenuse) is: ***5.0***"
          },
          "metadata": {}
        }
      ]
    },
    {
      "cell_type": "code",
      "source": [
        "from IPython.display import display, Markdown\n",
        "\n",
        "def main():\n",
        "  num1: int = int(input(\"Please enter an integer to be divided: \"))\n",
        "  num2: int = int(input(\"Please enter an integer to be divided: \"))\n",
        "  divide: float = num1 // num2\n",
        "  remainder: float = num1 % num2\n",
        "  display(Markdown(f\"The result of this division is ***{divide:.0f}*** with a remainder of ***{remainder}***\"))\n",
        "main()"
      ],
      "metadata": {
        "colab": {
          "base_uri": "https://localhost:8080/",
          "height": 81
        },
        "id": "teRkllVbdUri",
        "outputId": "d757d7c4-9151-42b8-aab5-921ba4967ec7"
      },
      "execution_count": 5,
      "outputs": [
        {
          "name": "stdout",
          "output_type": "stream",
          "text": [
            "Please enter an integer to be divided: 5\n",
            "Please enter an integer to be divided: 3\n"
          ]
        },
        {
          "output_type": "display_data",
          "data": {
            "text/plain": [
              "<IPython.core.display.Markdown object>"
            ],
            "text/markdown": "The result of this division is ***1*** with a remainder of ***2***"
          },
          "metadata": {}
        }
      ]
    },
    {
      "cell_type": "code",
      "source": [
        "import random\n",
        "\n",
        "NUM_SIDES = 6\n",
        "\n",
        "def main():\n",
        "  dice1: int = random.randint(1, NUM_SIDES)\n",
        "  dice2: int = random.randint(1, NUM_SIDES)\n",
        "  total_dice: int = dice1 + dice2\n",
        "\n",
        "  print(f\"Dice have {NUM_SIDES} sides each.\")\n",
        "  print(f\"First dice {dice1}\")\n",
        "  print(f\"Second dice {dice2}\")\n",
        "  print(f\"Total of Two dice is {total_dice}\")\n",
        "main()"
      ],
      "metadata": {
        "colab": {
          "base_uri": "https://localhost:8080/"
        },
        "id": "5gZrPmW1dZV6",
        "outputId": "1b682c85-e29d-452f-8d9f-f1335aaf0405"
      },
      "execution_count": 6,
      "outputs": [
        {
          "output_type": "stream",
          "name": "stdout",
          "text": [
            "Dice have 6 sides each.\n",
            "First dice 6\n",
            "Second dice 2\n",
            "Total of Two dice is 8\n"
          ]
        }
      ]
    },
    {
      "cell_type": "code",
      "source": [
        "DAYS_PER_YEAR: int = 365\n",
        "HOURS_PER_DAY: int = 24\n",
        "MIN_PER_HOUR: int = 60\n",
        "SEC_PER_MIN: int = 60\n",
        "\n",
        "def main():\n",
        "  print(f\"There are {DAYS_PER_YEAR} days in a year {HOURS_PER_DAY} hours in a day {MIN_PER_HOUR} minutes in an hour {SEC_PER_MIN} seconds per minute\")\n",
        "main()"
      ],
      "metadata": {
        "colab": {
          "base_uri": "https://localhost:8080/"
        },
        "id": "WjAS__5sdfMc",
        "outputId": "d6ab1b03-5f19-442b-de2f-099f6e40bc8e"
      },
      "execution_count": 7,
      "outputs": [
        {
          "output_type": "stream",
          "name": "stdout",
          "text": [
            "There are 365 days in a year 24 hours in a day 60 minutes in an hour 60 seconds per minute\n"
          ]
        }
      ]
    },
    {
      "cell_type": "code",
      "source": [
        "from IPython.display import display, Markdown\n",
        "\n",
        "SENTENCE_START: str = \"Panaversity is fun. I learned to program and used Python to make my\"\n",
        "\n",
        "def main():\n",
        "  adjective: str = input(\"Please type an adjective and press enter. \")\n",
        "  noun: str = input(\"Please type a noun and press enter. \")\n",
        "  verb: str = input(\"Please type a verb and press enter. \")\n",
        "\n",
        "  display(Markdown(f\"{SENTENCE_START} ***{adjective}*** ***{noun}*** ***{verb}***! \"))\n",
        "main()"
      ],
      "metadata": {
        "colab": {
          "base_uri": "https://localhost:8080/",
          "height": 98
        },
        "id": "yViexiUudn26",
        "outputId": "f8e6583e-162d-4e1a-b9d6-9acc99b8c4e9"
      },
      "execution_count": 8,
      "outputs": [
        {
          "name": "stdout",
          "output_type": "stream",
          "text": [
            "Please type an adjective and press enter. tiny\n",
            "Please type a noun and press enter. plant\n",
            "Please type a verb and press enter. fly\n"
          ]
        },
        {
          "output_type": "display_data",
          "data": {
            "text/plain": [
              "<IPython.core.display.Markdown object>"
            ],
            "text/markdown": "Panaversity is fun. I learned to program and used Python to make my ***tiny*** ***plant*** ***fly***! "
          },
          "metadata": {}
        }
      ]
    }
  ]
}