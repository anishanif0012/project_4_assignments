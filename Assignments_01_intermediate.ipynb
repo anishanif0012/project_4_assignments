{
  "nbformat": 4,
  "nbformat_minor": 0,
  "metadata": {
    "colab": {
      "provenance": [],
      "authorship_tag": "ABX9TyMADJ0+dQW12zFIu435bsau",
      "include_colab_link": true
    },
    "kernelspec": {
      "name": "python3",
      "display_name": "Python 3"
    },
    "language_info": {
      "name": "python"
    }
  },
  "cells": [
    {
      "cell_type": "markdown",
      "metadata": {
        "id": "view-in-github",
        "colab_type": "text"
      },
      "source": [
        "<a href=\"https://colab.research.google.com/github/anishanif0012/project_4_assignments/blob/main/Assignments_01_intermediate.ipynb\" target=\"_parent\"><img src=\"https://colab.research.google.com/assets/colab-badge.svg\" alt=\"Open In Colab\"/></a>"
      ]
    },
    {
      "cell_type": "code",
      "execution_count": 2,
      "metadata": {
        "colab": {
          "base_uri": "https://localhost:8080/"
        },
        "id": "LNn8FHG_ewCo",
        "outputId": "b1147c44-b3f6-4139-cfa3-6e3da91e4331"
      },
      "outputs": [
        {
          "output_type": "stream",
          "name": "stdout",
          "text": [
            "Welcome to the High-Low Game!\n",
            "--------------------------------\n",
            "Round 1\n",
            "Your number is 28\n",
            "Do you think your number is higher or lower than the computer's?: lower\n",
            "You were right! The computer's number was 83\n",
            "Your score is now 1\n",
            "\n",
            "Round 2\n",
            "Your number is 81\n",
            "Do you think your number is higher or lower than the computer's?: higher\n",
            "Aww, that's incorrect. The computer's number was 82\n",
            "Your score is now 1\n",
            "\n",
            "Round 3\n",
            "Your number is 55\n",
            "Do you think your number is higher or lower than the computer's?: higher\n",
            "You were right! The computer's number was 41\n",
            "Your score is now 2\n",
            "\n",
            "Round 4\n",
            "Your number is 55\n",
            "Do you think your number is higher or lower than the computer's?: lower\n",
            "Aww, that's incorrect. The computer's number was 38\n",
            "Your score is now 2\n",
            "\n",
            "Round 5\n",
            "Your number is 26\n",
            "Do you think your number is higher or lower than the computer's?: \n",
            "Please enter either higher or lower: 20\n",
            "Please enter either higher or lower: lower\n",
            "Aww, that's incorrect. The computer's number was 13\n",
            "Your score is now 2\n",
            "\n",
            "Your final score is 2\n",
            "Better luck next time!\n"
          ]
        }
      ],
      "source": [
        "import random\n",
        "\n",
        "NUM_ROUNDS = 5\n",
        "\n",
        "def main():\n",
        "    print(\"Welcome to the High-Low Game!\")\n",
        "    print('--------------------------------')\n",
        "\n",
        "    # Milestone 5: keep track of your score\n",
        "    your_score = 0\n",
        "\n",
        "    # Milestone 4: Play multiple rounds\n",
        "    for i in range(NUM_ROUNDS):\n",
        "        print(f\"Round {i + 1}\")\n",
        "        # Milestone 1: Generate the random numbers and print them out\n",
        "        computer_num = random.randint(1, 100)\n",
        "        your_num = random.randint(1, 100)\n",
        "        print(f\"Your number is {your_num}\")\n",
        "\n",
        "        # Milestone 2: Get user input for their choice\n",
        "        choice = input(\"Do you think your number is higher or lower than the computer's?: \")\n",
        "\n",
        "        # Extension 1: Make sure the player inputs a valid choice (higher or lower)\n",
        "        while choice != \"higher\" and choice != \"lower\":\n",
        "            choice = input(\"Please enter either higher or lower: \")\n",
        "\n",
        "        # Milestone 3: Map out all the ways to win the round\n",
        "        higher_and_correct = choice == \"higher\" and your_num > computer_num\n",
        "        lower_and_correct = choice == \"lower\" and your_num < computer_num\n",
        "\n",
        "        if higher_and_correct or lower_and_correct:\n",
        "            print(f\"You were right! The computer's number was {computer_num}\")\n",
        "            # Milestone 5: keep track of your score\n",
        "            your_score += 1\n",
        "        else:\n",
        "            print(f\"Aww, that's incorrect. The computer's number was {computer_num}\")\n",
        "\n",
        "        # Milestone 5: keep track of your score\n",
        "        print(f\"Your score is now {your_score}\")\n",
        "        print()\n",
        "\n",
        "    # Extension 2: Conditional ending messages based on performance\n",
        "\n",
        "    print(f\"Your final score is {your_score}\")\n",
        "    if your_score == NUM_ROUNDS:\n",
        "        print(\"Wow! You played perfectly!\")\n",
        "    elif your_score > NUM_ROUNDS // 2:\n",
        "        print(\"Good job, you played really well!\")\n",
        "    else:\n",
        "        print(\"Better luck next time!\")\n",
        "main()"
      ]
    },
    {
      "cell_type": "code",
      "source": [
        "# Gravitational constants for each planet (relative to Earth)\n",
        "MERCURY_GRAVITY = 0.376\n",
        "VENUS_GRAVITY = 0.889\n",
        "MARS_GRAVITY = 0.378\n",
        "JUPITER_GRAVITY = 2.36\n",
        "SATURN_GRAVITY = 1.081\n",
        "URANUS_GRAVITY = 0.815\n",
        "NEPTUNE_GRAVITY = 1.14\n",
        "\n",
        "# Prompt the user\n",
        "planet = input(\"Enter a planet: \").title()\n",
        "earth_weight = float(input(\"Enter your weight on Earth (kg): \"))\n",
        "\n",
        "# Determine gravity constant\n",
        "if planet == \"Mercury\":\n",
        "    gravity_constant = MERCURY_GRAVITY\n",
        "elif planet == \"Venus\":\n",
        "    gravity_constant = VENUS_GRAVITY\n",
        "elif planet == \"Mars\":\n",
        "    gravity_constant = MARS_GRAVITY\n",
        "elif planet == \"Jupiter\":\n",
        "    gravity_constant = JUPITER_GRAVITY\n",
        "elif planet == \"Saturn\":\n",
        "    gravity_constant = SATURN_GRAVITY\n",
        "elif planet == \"Uranus\":\n",
        "    gravity_constant = URANUS_GRAVITY\n",
        "elif planet == \"Neptune\":\n",
        "    gravity_constant = NEPTUNE_GRAVITY\n",
        "else:\n",
        "    print(\"Planet not recognized. Please enter a valid planet name.\")\n",
        "    exit()\n",
        "\n",
        "# Calculate and print the result\n",
        "planetary_weight = earth_weight * gravity_constant\n",
        "rounded_weight = round(planetary_weight, 2)\n",
        "print(f\"The equivalent weight on {planet}: {rounded_weight} kg\")\n"
      ],
      "metadata": {
        "colab": {
          "base_uri": "https://localhost:8080/"
        },
        "id": "F2Emv6ddhIih",
        "outputId": "85727287-b638-4fa3-bd14-82bdf333acf3"
      },
      "execution_count": 4,
      "outputs": [
        {
          "output_type": "stream",
          "name": "stdout",
          "text": [
            "Enter a planet: Mercury\n",
            "Enter your weight on Earth (kg): 0.376\n",
            "The equivalent weight on Mercury: 0.14 kg\n"
          ]
        }
      ]
    },
    {
      "cell_type": "code",
      "source": [
        "def access_element(lst, index):\n",
        "    try:\n",
        "        return lst[index]\n",
        "    except IndexError:\n",
        "        return \"Index out of range.\"\n",
        "\n",
        "def modify_element(lst, index, new_value):\n",
        "    try:\n",
        "        lst[index] = new_value\n",
        "        return lst\n",
        "    except IndexError:\n",
        "        return \"Index out of range.\"\n",
        "\n",
        "def slice_list(lst, start, end):\n",
        "    try:\n",
        "        return lst[start:end]\n",
        "    except IndexError:\n",
        "        return \"Invalid indices.\"\n",
        "\n",
        "def index_game():\n",
        "    lst = [1, 2, 3, 4, 5]\n",
        "    print(f\"Current list: {lst}\")\n",
        "    print(\"Choose an operation: access, modify, slice\")\n",
        "    operation = input(\"Enter operation: \")\n",
        "\n",
        "    if operation == \"access\":\n",
        "        index = int(input(\"Enter index to access: \"))\n",
        "        print(access_element(lst, index))\n",
        "    elif operation == \"modify\":\n",
        "        index = int(input(\"Enter index to modify: \"))\n",
        "        new_value = input(\"Enter new value: \")\n",
        "        print(modify_element(lst, index, new_value))\n",
        "    elif operation == \"slice\":\n",
        "        start = int(input(\"Enter start index: \"))\n",
        "        end = int(input(\"Enter end index: \"))\n",
        "        print(slice_list(lst, start, end))\n",
        "    else:\n",
        "        print(\"Invalid operation.\")\n",
        "index_game()"
      ],
      "metadata": {
        "colab": {
          "base_uri": "https://localhost:8080/"
        },
        "id": "7eBHL2ZojSHT",
        "outputId": "bfa5cce2-7b77-4e30-f81c-d157b952c9c0"
      },
      "execution_count": 5,
      "outputs": [
        {
          "output_type": "stream",
          "name": "stdout",
          "text": [
            "Current list: [1, 2, 3, 4, 5]\n",
            "Choose an operation: access, modify, slice\n",
            "Enter operation: access\n",
            "Enter index to access: 1\n",
            "2\n"
          ]
        }
      ]
    }
  ]
}