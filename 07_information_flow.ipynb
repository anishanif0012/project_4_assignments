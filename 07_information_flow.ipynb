{
  "nbformat": 4,
  "nbformat_minor": 0,
  "metadata": {
    "colab": {
      "provenance": [],
      "authorship_tag": "ABX9TyPtW11Xr4BwZw0/conNc3sy",
      "include_colab_link": true
    },
    "kernelspec": {
      "name": "python3",
      "display_name": "Python 3"
    },
    "language_info": {
      "name": "python"
    }
  },
  "cells": [
    {
      "cell_type": "markdown",
      "metadata": {
        "id": "view-in-github",
        "colab_type": "text"
      },
      "source": [
        "<a href=\"https://colab.research.google.com/github/anishanif0012/project_4_assignments/blob/main/07_information_flow.ipynb\" target=\"_parent\"><img src=\"https://colab.research.google.com/assets/colab-badge.svg\" alt=\"Open In Colab\"/></a>"
      ]
    },
    {
      "cell_type": "code",
      "execution_count": 1,
      "metadata": {
        "id": "5ZLzENtCi_B0",
        "colab": {
          "base_uri": "https://localhost:8080/",
          "height": 64
        },
        "outputId": "0a7093b8-1f2a-423a-bfbf-df6cb7cc870c"
      },
      "outputs": [
        {
          "name": "stdout",
          "output_type": "stream",
          "text": [
            "How old is this person?: 35\n"
          ]
        },
        {
          "output_type": "display_data",
          "data": {
            "text/plain": [
              "<IPython.core.display.Markdown object>"
            ],
            "text/markdown": "***True***"
          },
          "metadata": {}
        }
      ],
      "source": [
        "from IPython.display import display, Markdown\n",
        "\n",
        "ADULT_AGE: int = 18\n",
        "\n",
        "def is_adult(age: int):\n",
        "  if age >= ADULT_AGE:\n",
        "    return True\n",
        "  return False\n",
        "def main():\n",
        "  age: str = int(input(\"How old is this person?: \"))\n",
        "  display(Markdown(f\"***{is_adult(age)}***\"))\n",
        "main()"
      ]
    },
    {
      "cell_type": "code",
      "source": [
        "from IPython.display import display, Markdown\n",
        "\n",
        "def greet(name):\n",
        "    return f\"Greetings ***{name}***!\"\n",
        "def main():\n",
        "    name: str = input(\"What's your name? \")\n",
        "    display(Markdown(greet(name)))\n",
        "main()"
      ],
      "metadata": {
        "id": "wO04JEjbjCFo",
        "colab": {
          "base_uri": "https://localhost:8080/",
          "height": 64
        },
        "outputId": "5ed3d120-a466-4af8-92e3-825b57a3c8af"
      },
      "execution_count": 5,
      "outputs": [
        {
          "name": "stdout",
          "output_type": "stream",
          "text": [
            "What's your name? sophia\n"
          ]
        },
        {
          "output_type": "display_data",
          "data": {
            "text/plain": [
              "<IPython.core.display.Markdown object>"
            ],
            "text/markdown": "Greetings ***sophia***!"
          },
          "metadata": {}
        }
      ]
    },
    {
      "cell_type": "code",
      "source": [
        "def in_range(n, low, high):\n",
        "  if n >= low and n <= high:\n",
        "    return True\n",
        "  return False\n",
        "in_range(6, 2, 4)"
      ],
      "metadata": {
        "id": "4HthQmQpjCtx",
        "colab": {
          "base_uri": "https://localhost:8080/"
        },
        "outputId": "013d883f-94ba-409a-dded-d3eb89c8d160"
      },
      "execution_count": 6,
      "outputs": [
        {
          "output_type": "execute_result",
          "data": {
            "text/plain": [
              "False"
            ]
          },
          "metadata": {},
          "execution_count": 6
        }
      ]
    },
    {
      "cell_type": "code",
      "source": [
        "from IPython.display import display, Markdown\n",
        "\n",
        "def main():\n",
        "\tfruit : str = input(\"Enter a fruit: \")\n",
        "\tstock = num_in_stock(fruit)\n",
        "\tif stock == 0:\n",
        "\t\tprint(\"This fruit is not in stock.\")\n",
        "\telse:\n",
        "\t\tprint(\"This fruit is in stock! Here is how many:\")\n",
        "\t\tdisplay(Markdown(f\"***{stock}***\"))\n",
        "def num_in_stock(fruit):\n",
        "\tif fruit == 'apple':\n",
        "\t\treturn 2\n",
        "\tif fruit == 'durian':\n",
        "\t\treturn 4\n",
        "\tif fruit == 'pear':\n",
        "\t\treturn 1000\n",
        "\telse:\n",
        "\t\treturn 0\n",
        "main()"
      ],
      "metadata": {
        "id": "SleryMVCjC2j",
        "colab": {
          "base_uri": "https://localhost:8080/",
          "height": 81
        },
        "outputId": "6e9455df-47a1-42a8-c98b-503d4eac630d"
      },
      "execution_count": 7,
      "outputs": [
        {
          "output_type": "stream",
          "name": "stdout",
          "text": [
            "Enter a fruit: pear\n",
            "This fruit is in stock! Here is how many:\n"
          ]
        },
        {
          "output_type": "display_data",
          "data": {
            "text/plain": [
              "<IPython.core.display.Markdown object>"
            ],
            "text/markdown": "***1000***"
          },
          "metadata": {}
        }
      ]
    },
    {
      "cell_type": "code",
      "source": [
        "def get_user_info():\n",
        "    first_name: str = input(\"What is your first name?: \")\n",
        "    last_name: str = input(\"What is your last name?: \")\n",
        "    email_address : str = input(\"What is your email address?: \")\n",
        "    return first_name, last_name, email_address\n",
        "def main():\n",
        "    user_data = get_user_info()\n",
        "    print(f\"Received the following user data: {user_data}\")\n",
        "main()"
      ],
      "metadata": {
        "id": "z6hYE8W5jC-W",
        "colab": {
          "base_uri": "https://localhost:8080/"
        },
        "outputId": "3ed850bf-9a66-4f2b-97bb-f07ca3b80a03"
      },
      "execution_count": 8,
      "outputs": [
        {
          "output_type": "stream",
          "name": "stdout",
          "text": [
            "What is your first name?: anis\n",
            "What is your last name?: hanif\n",
            "What is your email address?: anishanif946@hmail.com\n",
            "Received the following user data: ('anis', 'hanif', 'anishanif946@hmail.com')\n"
          ]
        }
      ]
    },
    {
      "cell_type": "code",
      "source": [
        "def main():\n",
        "\tnum: int = 7\n",
        "\tnum = subtract_seven(num)\n",
        "\tprint(f\"this should be zero: {num}\")\n",
        "def subtract_seven(num):\n",
        "\tnum = num - 7\n",
        "\treturn num\n",
        "main()"
      ],
      "metadata": {
        "id": "voj3FR-hjDE-",
        "colab": {
          "base_uri": "https://localhost:8080/"
        },
        "outputId": "d39e1695-e6de-4cb5-9123-67c6839adf1f"
      },
      "execution_count": 9,
      "outputs": [
        {
          "output_type": "stream",
          "name": "stdout",
          "text": [
            "this should be zero: 0\n"
          ]
        }
      ]
    }
  ]
}