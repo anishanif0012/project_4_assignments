{
  "nbformat": 4,
  "nbformat_minor": 0,
  "metadata": {
    "colab": {
      "provenance": [],
      "authorship_tag": "ABX9TyPwUhpMRcjz2DFMI3J+JniX",
      "include_colab_link": true
    },
    "kernelspec": {
      "name": "python3",
      "display_name": "Python 3"
    },
    "language_info": {
      "name": "python"
    }
  },
  "cells": [
    {
      "cell_type": "markdown",
      "metadata": {
        "id": "view-in-github",
        "colab_type": "text"
      },
      "source": [
        "<a href=\"https://colab.research.google.com/github/anishanif0012/project_4_assignments/blob/main/guess_the_number_game_computer.ipynb\" target=\"_parent\"><img src=\"https://colab.research.google.com/assets/colab-badge.svg\" alt=\"Open In Colab\"/></a>"
      ]
    },
    {
      "cell_type": "code",
      "execution_count": null,
      "metadata": {
        "colab": {
          "base_uri": "https://localhost:8080/"
        },
        "id": "ZvtOqFHWE5Xr",
        "outputId": "abf23808-c4cc-4506-e127-fa0089ad3e89"
      },
      "outputs": [
        {
          "output_type": "stream",
          "name": "stdout",
          "text": [
            "Guess a number between 1 and 10: 5\n",
            "Sorry, guess again. To low.\n",
            "Guess a number between 1 and 10: 3\n",
            "Sorry, guess again. To low.\n"
          ]
        }
      ],
      "source": [
        "import random\n",
        "\n",
        "def guess(x):\n",
        "  random_number = random.randint(1, x)\n",
        "  guess = 0\n",
        "  while guess != random_number:\n",
        "    guess = int(input(f\"Guess a number between 1 and {x}: \"))\n",
        "    if guess < random_number:\n",
        "      print(\"Sorry, guess again. To low.\")\n",
        "    elif guess> random_number:\n",
        "      print(\"Sorry, guess again. To high.\")\n",
        "  print(f\"Congrats! you have guessed the number {random_number}\")\n",
        "guess(10)"
      ]
    }
  ]
}