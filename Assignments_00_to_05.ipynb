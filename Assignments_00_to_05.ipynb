{
  "nbformat": 4,
  "nbformat_minor": 0,
  "metadata": {
    "colab": {
      "provenance": [],
      "authorship_tag": "ABX9TyNF/0MbKX5KDDQC/Gob4Mge",
      "include_colab_link": true
    },
    "kernelspec": {
      "name": "python3",
      "display_name": "Python 3"
    },
    "language_info": {
      "name": "python"
    }
  },
  "cells": [
    {
      "cell_type": "markdown",
      "metadata": {
        "id": "view-in-github",
        "colab_type": "text"
      },
      "source": [
        "<a href=\"https://colab.research.google.com/github/anishanif0012/project_4_assignments/blob/main/Assignments_00_to_05.ipynb\" target=\"_parent\"><img src=\"https://colab.research.google.com/assets/colab-badge.svg\" alt=\"Open In Colab\"/></a>"
      ]
    },
    {
      "cell_type": "code",
      "source": [
        "def main():\n",
        "    print(\"This program adds two numbers.\")\n",
        "    num1 = int(input(\"Enter first no: \"))\n",
        "    num2 = int(input(\"Enter second no: \"))\n",
        "    total_sum = num1 + num2\n",
        "    print(f\"The Total sum is: {total_sum}\")\n",
        "main()"
      ],
      "metadata": {
        "colab": {
          "base_uri": "https://localhost:8080/"
        },
        "id": "A513JDMhBP_q",
        "outputId": "c74644d2-5463-4e48-e57b-e27423b38fb1"
      },
      "execution_count": null,
      "outputs": [
        {
          "output_type": "stream",
          "name": "stdout",
          "text": [
            "This program adds two numbers.\n",
            "Enter first no: 5\n",
            "Enter second no: 5\n",
            "The Total sum is: 10\n"
          ]
        }
      ]
    },
    {
      "cell_type": "markdown",
      "source": [
        "- we import display, markdown from IPython.display for bold, italic"
      ],
      "metadata": {
        "id": "RoLzbtP_cIky"
      }
    },
    {
      "cell_type": "code",
      "source": [
        "from IPython.display import display, Markdown\n",
        "\n",
        "def main():\n",
        "    favourite_animal = input(\"What their favorite animal? \")\n",
        "    display(Markdown(f\"My favorite animal is also ***{favourite_animal}***! \"))\n",
        "main()"
      ],
      "metadata": {
        "colab": {
          "base_uri": "https://localhost:8080/",
          "height": 64
        },
        "id": "p0tb0dN5ErBq",
        "outputId": "97ac7c29-8d0d-4010-b2a8-b824e55e7703"
      },
      "execution_count": null,
      "outputs": [
        {
          "name": "stdout",
          "output_type": "stream",
          "text": [
            "What their favorite animal? 5\n"
          ]
        },
        {
          "output_type": "display_data",
          "data": {
            "text/plain": [
              "<IPython.core.display.Markdown object>"
            ],
            "text/markdown": "My favorite animal is also ***5***! "
          },
          "metadata": {}
        }
      ]
    },
    {
      "cell_type": "markdown",
      "source": [
        "- in this problem we use Unicode Escape Sequence \\u00B0 for Degree Symbol\n",
        "- we also use Alt+0176 for Degree Symbol"
      ],
      "metadata": {
        "id": "AlBwkMEVbC5l"
      }
    },
    {
      "cell_type": "code",
      "source": [
        "from IPython.display import display, Markdown\n",
        "\n",
        "def main():\n",
        "    degrees_fahrenheit: float = float(input(\"Enter temperature in Fahrenheit: \"))\n",
        "    degrees_celsius = (degrees_fahrenheit - 32) * 5.0 / 9.0\n",
        "    display(Markdown(f\"Temperature: ***{degrees_fahrenheit:.1f}\\u00B0F*** = ***{degrees_celsius:.15f}\\u00B0C***\"))\n",
        "\n",
        "main()"
      ],
      "metadata": {
        "colab": {
          "base_uri": "https://localhost:8080/",
          "height": 64
        },
        "id": "hrDUSwqtUFbG",
        "outputId": "6486c37b-140f-4475-bebe-5ce870c6ea9a"
      },
      "execution_count": null,
      "outputs": [
        {
          "name": "stdout",
          "output_type": "stream",
          "text": [
            "Enter temperature in Fahrenheit: 76\n"
          ]
        },
        {
          "output_type": "display_data",
          "data": {
            "text/plain": [
              "<IPython.core.display.Markdown object>"
            ],
            "text/markdown": "Temperature: ***76.0°F*** = ***24.444444444444443°C***"
          },
          "metadata": {}
        }
      ]
    },
    {
      "cell_type": "code",
      "source": [
        "def main():\n",
        "    anton_age: int = 21\n",
        "    beth_age: int = 6\n",
        "    chen_age: int = 20\n",
        "    drew_age: int = chen_age + anton_age\n",
        "    ethan_age: int = chen_age\n",
        "\n",
        "    print(f\"Anton is {anton_age}\")\n",
        "    print(f\"Beth is {beth_age}\")\n",
        "    print(f\"Chen is {chen_age}\")\n",
        "    print(f\"Drew is {drew_age}\")\n",
        "    print(f\"Ethan is {ethan_age}\")\n",
        "\n",
        "main()"
      ],
      "metadata": {
        "colab": {
          "base_uri": "https://localhost:8080/"
        },
        "id": "HkczRy_rfyA_",
        "outputId": "45b509db-d3da-4f5a-8a16-5779ffd42300"
      },
      "execution_count": null,
      "outputs": [
        {
          "output_type": "stream",
          "name": "stdout",
          "text": [
            "Anton is 21\n",
            "Beth is 6\n",
            "Chen is 20\n",
            "Drew is 41\n",
            "Ethan is 20\n"
          ]
        }
      ]
    },
    {
      "cell_type": "code",
      "source": [
        "from IPython.display import display, Markdown\n",
        "\n",
        "def main():\n",
        "  side1: float = float(input(\"What is the length of side 1? \"))\n",
        "  side2: float = float(input(\"What is the length of side 2? \"))\n",
        "  side3: float = float(input(\"What is the length of side 3? \"))\n",
        "\n",
        "  perimeter: float = side1 + side2 + side3\n",
        "\n",
        "  display(Markdown(f\"The perimeter of the triangle is ***{perimeter}***\"))\n",
        "main()"
      ],
      "metadata": {
        "colab": {
          "base_uri": "https://localhost:8080/",
          "height": 98
        },
        "id": "IsnMhAPmdxIe",
        "outputId": "491e68b9-b8aa-4684-a275-b7a3d22d5bb1"
      },
      "execution_count": null,
      "outputs": [
        {
          "name": "stdout",
          "output_type": "stream",
          "text": [
            "What is the length of side 1? 3\n",
            "What is the length of side 2? 4\n",
            "What is the length of side 3? 5.5\n"
          ]
        },
        {
          "output_type": "display_data",
          "data": {
            "text/plain": [
              "<IPython.core.display.Markdown object>"
            ],
            "text/markdown": "The perimeter of the triangle is ***12.5***"
          },
          "metadata": {}
        }
      ]
    },
    {
      "cell_type": "code",
      "source": [
        "from IPython.display import display, Markdown\n",
        "\n",
        "def main():\n",
        "  num: float = float(input(\"Enter a number to see its square: \"))\n",
        "  result: float = num**2\n",
        "  display(Markdown(f\"{num} squared is: ***{result}***\"))\n",
        "main()\n"
      ],
      "metadata": {
        "colab": {
          "base_uri": "https://localhost:8080/",
          "height": 64
        },
        "id": "6pajC9XZixVz",
        "outputId": "182b5b42-099f-4620-86ba-d5a20fc2c152"
      },
      "execution_count": null,
      "outputs": [
        {
          "name": "stdout",
          "output_type": "stream",
          "text": [
            "Enter a number to see its square: 2\n"
          ]
        },
        {
          "output_type": "display_data",
          "data": {
            "text/plain": [
              "<IPython.core.display.Markdown object>"
            ],
            "text/markdown": "2.0 squared is: ***4.0***"
          },
          "metadata": {}
        }
      ]
    },
    {
      "cell_type": "code",
      "source": [
        "import random\n",
        "\n",
        "NUM_SIDES = 6\n",
        "\n",
        "def roll_dice():\n",
        "  dice1: int = random.randint(1, NUM_SIDES)\n",
        "  dice2: int = random.randint(1, NUM_SIDES)\n",
        "  total: int = dice1 + dice2\n",
        "  print(f\"Total of two dice is {total}\")\n",
        "\n",
        "def main():\n",
        "  dice1: int = 10\n",
        "  print(f\"dice1 in main() starts as: {dice1}\")\n",
        "  roll_dice()\n",
        "  roll_dice()\n",
        "  roll_dice()\n",
        "  print(f\"dice1 in main() is: {dice1}\")\n",
        "main()"
      ],
      "metadata": {
        "colab": {
          "base_uri": "https://localhost:8080/"
        },
        "id": "CqqetkBLoOgG",
        "outputId": "311bb94c-72ad-4bf9-9ab9-4853756fb3c8"
      },
      "execution_count": null,
      "outputs": [
        {
          "output_type": "stream",
          "name": "stdout",
          "text": [
            "dice1 in main() starts as: 10\n",
            "Total of two dice is 8\n",
            "Total of two dice is 12\n",
            "Total of two dice is 7\n",
            "dice1 in main() is: 10\n"
          ]
        }
      ]
    },
    {
      "cell_type": "code",
      "source": [
        "from IPython.display import display, Markdown\n",
        "\n",
        "def main():\n",
        "  mass_in_kg: float = float(input(\"Enter kilos of mass: \"))\n",
        "  C = 299792458\n",
        "  energy_in_joules: float = mass_in_kg * (C ** 2)\n",
        "\n",
        "  display(Markdown(\"***e = m * C^2...***\"))\n",
        "  display(Markdown(f\"M = ***{mass_in_kg} kg***\"))\n",
        "  display(Markdown(f\"C = ***{C} m/s***\"))\n",
        "  display(Markdown(f\"***{energy_in_joules}*** joules of energy! \"))\n",
        "main()"
      ],
      "metadata": {
        "colab": {
          "base_uri": "https://localhost:8080/",
          "height": 134
        },
        "id": "XZp5llaYsj6S",
        "outputId": "961c6760-82b9-4545-e5b7-05de4bc62e9c"
      },
      "execution_count": null,
      "outputs": [
        {
          "name": "stdout",
          "output_type": "stream",
          "text": [
            "Enter kilos of mass: 100\n"
          ]
        },
        {
          "output_type": "display_data",
          "data": {
            "text/plain": [
              "<IPython.core.display.Markdown object>"
            ],
            "text/markdown": "***e = m * C^2...***"
          },
          "metadata": {}
        },
        {
          "output_type": "display_data",
          "data": {
            "text/plain": [
              "<IPython.core.display.Markdown object>"
            ],
            "text/markdown": "M = ***100.0 kg***"
          },
          "metadata": {}
        },
        {
          "output_type": "display_data",
          "data": {
            "text/plain": [
              "<IPython.core.display.Markdown object>"
            ],
            "text/markdown": "C = ***299792458 m/s***"
          },
          "metadata": {}
        },
        {
          "output_type": "display_data",
          "data": {
            "text/plain": [
              "<IPython.core.display.Markdown object>"
            ],
            "text/markdown": "***8.987551787368176e+18*** joules of energy! "
          },
          "metadata": {}
        }
      ]
    },
    {
      "cell_type": "code",
      "source": [
        "INCHES_TO_FOOT = 12\n",
        "\n",
        "def main():\n",
        "  feet: float = float(input(\"Enter the number of feet: \"))\n",
        "  inches: float = feet * INCHES_TO_FOOT\n",
        "  print(f\"Its {inches} inches!\")\n",
        "main()"
      ],
      "metadata": {
        "colab": {
          "base_uri": "https://localhost:8080/"
        },
        "id": "kAAmIm0Wymkn",
        "outputId": "af88e45d-5fe1-4987-9d7d-f30edf2cc4d6"
      },
      "execution_count": null,
      "outputs": [
        {
          "output_type": "stream",
          "name": "stdout",
          "text": [
            "Enter the number of feet: 1\n",
            "Its 12.0 inches!\n"
          ]
        }
      ]
    },
    {
      "cell_type": "code",
      "source": [
        "import math\n",
        "from IPython.display import display, Markdown\n",
        "\n",
        "def main():\n",
        "  ab: float = float(input(\"Enter the length of AB: \"))\n",
        "  ac: float = float(input(\"Enter the length of AC: \"))\n",
        "\n",
        "  bc: float = math.sqrt(ab**2 + ac**2)\n",
        "  display(Markdown(f\"The length of BC (the hypotenuse) is: ***{bc}***\"))\n",
        "main()"
      ],
      "metadata": {
        "colab": {
          "base_uri": "https://localhost:8080/",
          "height": 81
        },
        "id": "uPAr1R4w2BKE",
        "outputId": "543de25f-a07e-4bc1-9b1b-6dbb9aa31ba3"
      },
      "execution_count": null,
      "outputs": [
        {
          "name": "stdout",
          "output_type": "stream",
          "text": [
            "Enter the length of AB: 3\n",
            "Enter the length of AC: 4\n"
          ]
        },
        {
          "output_type": "display_data",
          "data": {
            "text/plain": [
              "<IPython.core.display.Markdown object>"
            ],
            "text/markdown": "The length of BC (the hypotenuse) is: ***5.0***"
          },
          "metadata": {}
        }
      ]
    },
    {
      "cell_type": "code",
      "source": [
        "from IPython.display import display, Markdown\n",
        "\n",
        "def main():\n",
        "  num1: int = int(input(\"Please enter an integer to be divided: \"))\n",
        "  num2: int = int(input(\"Please enter an integer to be divided: \"))\n",
        "  divide: float = num1 // num2\n",
        "  remainder: float = num1 % num2\n",
        "  display(Markdown(f\"The result of this division is ***{divide:.0f}*** with a remainder of ***{remainder}***\"))\n",
        "main()"
      ],
      "metadata": {
        "colab": {
          "base_uri": "https://localhost:8080/",
          "height": 81
        },
        "id": "OcdhWxaW5PZD",
        "outputId": "e0f26e79-4532-4a70-8d41-ff5663ae1850"
      },
      "execution_count": null,
      "outputs": [
        {
          "name": "stdout",
          "output_type": "stream",
          "text": [
            "Please enter an integer to be divided: 5\n",
            "Please enter an integer to be divided: 3\n"
          ]
        },
        {
          "output_type": "display_data",
          "data": {
            "text/plain": [
              "<IPython.core.display.Markdown object>"
            ],
            "text/markdown": "The result of this division is ***1*** with a remainder of ***2***"
          },
          "metadata": {}
        }
      ]
    },
    {
      "cell_type": "code",
      "source": [
        "import random\n",
        "\n",
        "NUM_SIDES = 6\n",
        "\n",
        "def main():\n",
        "  dice1: int = random.randint(1, NUM_SIDES)\n",
        "  dice2: int = random.randint(1, NUM_SIDES)\n",
        "  total_dice: int = dice1 + dice2\n",
        "\n",
        "  print(f\"Dice have {NUM_SIDES} sides each.\")\n",
        "  print(f\"First dice {dice1}\")\n",
        "  print(f\"Second dice {dice2}\")\n",
        "  print(f\"Total of Two dice is {total_dice}\")\n",
        "main()"
      ],
      "metadata": {
        "colab": {
          "base_uri": "https://localhost:8080/"
        },
        "id": "8gta_BGC8E0J",
        "outputId": "3ba5ba9a-8919-4271-94e4-1b3c57f158a4"
      },
      "execution_count": null,
      "outputs": [
        {
          "output_type": "stream",
          "name": "stdout",
          "text": [
            "Dice have 6 sides each.\n",
            "First dice 1\n",
            "Second dice 4\n",
            "Total of Two dice is 5\n"
          ]
        }
      ]
    },
    {
      "cell_type": "code",
      "source": [
        "DAYS_PER_YEAR: int = 365\n",
        "HOURS_PER_DAY: int = 24\n",
        "MIN_PER_HOUR: int = 60\n",
        "SEC_PER_MIN: int = 60\n",
        "\n",
        "def main():\n",
        "  print(f\"There are {DAYS_PER_YEAR} days in a year {HOURS_PER_DAY} hours in a day {MIN_PER_HOUR} minutes in an hour {SEC_PER_MIN} seconds per minute\")\n",
        "main()"
      ],
      "metadata": {
        "colab": {
          "base_uri": "https://localhost:8080/"
        },
        "id": "JVgG-ue6B5bj",
        "outputId": "df9a4a37-8cd8-442a-b56a-e44baf16318c"
      },
      "execution_count": null,
      "outputs": [
        {
          "output_type": "stream",
          "name": "stdout",
          "text": [
            "There are 365 days in a year 24 hours in a day 60 minutes in an hour 60 seconds per minute\n"
          ]
        }
      ]
    },
    {
      "cell_type": "code",
      "source": [
        "from IPython.display import display, Markdown\n",
        "\n",
        "SENTENCE_START: str = \"Panaversity is fun. I learned to program and used Python to make my\"\n",
        "\n",
        "def main():\n",
        "  adjective: str = input(\"Please type an adjective and press enter. \")\n",
        "  noun: str = input(\"Please type a noun and press enter. \")\n",
        "  verb: str = input(\"Please type a verb and press enter. \")\n",
        "\n",
        "  display(Markdown(f\"{SENTENCE_START} ***{adjective}*** ***{noun}*** ***{verb}***! \"))\n",
        "main()"
      ],
      "metadata": {
        "colab": {
          "base_uri": "https://localhost:8080/",
          "height": 98
        },
        "id": "hEfTPxNtDmvx",
        "outputId": "db60438a-bd59-4e4d-cb14-5b4b56244c79"
      },
      "execution_count": null,
      "outputs": [
        {
          "name": "stdout",
          "output_type": "stream",
          "text": [
            "Please type an adjective and press enter. tiny\n",
            "Please type a noun and press enter. plant\n",
            "Please type a verb and press enter. fly\n"
          ]
        },
        {
          "output_type": "display_data",
          "data": {
            "text/plain": [
              "<IPython.core.display.Markdown object>"
            ],
            "text/markdown": "Panaversity is fun. I learned to program and used Python to make my ***tiny*** ***plant*** ***fly***! "
          },
          "metadata": {}
        }
      ]
    },
    {
      "cell_type": "code",
      "source": [
        "def main():\n",
        "  numbers: list[int] = [1, 2 ,3, 4, 5]\n",
        "  result = sum(numbers)\n",
        "  print(result)\n",
        "main()"
      ],
      "metadata": {
        "colab": {
          "base_uri": "https://localhost:8080/"
        },
        "id": "TS-9cuh18YcD",
        "outputId": "1fa60c18-6b99-461f-8b07-36493a9d6fcd"
      },
      "execution_count": null,
      "outputs": [
        {
          "output_type": "stream",
          "name": "stdout",
          "text": [
            "15\n"
          ]
        }
      ]
    },
    {
      "cell_type": "code",
      "source": [
        "def main():\n",
        "  double_numbers: list[int] =[1, 2, 3, 4]\n",
        "  for item in double_numbers:\n",
        "    item += item\n",
        "    print(item)\n",
        "main()\n",
        "\n"
      ],
      "metadata": {
        "colab": {
          "base_uri": "https://localhost:8080/"
        },
        "id": "Bc7AWFlN_4tl",
        "outputId": "d370e9e6-e1b3-49dd-e331-cc5debad013d"
      },
      "execution_count": null,
      "outputs": [
        {
          "output_type": "stream",
          "name": "stdout",
          "text": [
            "2\n",
            "4\n",
            "6\n",
            "8\n"
          ]
        }
      ]
    },
    {
      "cell_type": "code",
      "source": [
        "from IPython.display import display, Markdown\n",
        "\n",
        "def add_three_copies(list, data):\n",
        "  for i in range(3):\n",
        "   list.append(data)\n",
        "\n",
        "def main():\n",
        "  message = input(\"Enter a message to copy: \")\n",
        "  list = []\n",
        "  display(Markdown(f\"list before: **{list}** \"))\n",
        "  add_three_copies(list, message)\n",
        "  display(Markdown(f\"list after: **{list}** \"))\n",
        "main()"
      ],
      "metadata": {
        "colab": {
          "base_uri": "https://localhost:8080/",
          "height": 87
        },
        "id": "C24q6dY7GAD8",
        "outputId": "dd9faf65-6d8b-4c2b-e4cc-0dc5c82100ca"
      },
      "execution_count": null,
      "outputs": [
        {
          "name": "stdout",
          "output_type": "stream",
          "text": [
            "Enter a message to copy: helo world\n"
          ]
        },
        {
          "output_type": "display_data",
          "data": {
            "text/plain": [
              "<IPython.core.display.Markdown object>"
            ],
            "text/markdown": "list before: **[]** "
          },
          "metadata": {}
        },
        {
          "output_type": "display_data",
          "data": {
            "text/plain": [
              "<IPython.core.display.Markdown object>"
            ],
            "text/markdown": "list after: **['helo world', 'helo world', 'helo world']** "
          },
          "metadata": {}
        }
      ]
    },
    {
      "cell_type": "code",
      "source": [
        "def get_first_element(lst):\n",
        "    print(lst[0])\n",
        "\n",
        "def get_lst():\n",
        "    lst = []\n",
        "    elem: str = input(\"Please enter an element of the list or press enter to stop. \")\n",
        "    while elem != \"\":\n",
        "        lst.append(elem)\n",
        "        elem = input(\"Please enter an element of the list or press enter to stop. \")\n",
        "    return lst\n",
        "\n",
        "def main():\n",
        "    lst = get_lst()\n",
        "    get_first_element(lst)\n",
        "main()"
      ],
      "metadata": {
        "colab": {
          "base_uri": "https://localhost:8080/"
        },
        "id": "xMh5xkg0PNSJ",
        "outputId": "bf66036c-dfd1-46fe-e49b-61aa3cd1cb5d"
      },
      "execution_count": null,
      "outputs": [
        {
          "output_type": "stream",
          "name": "stdout",
          "text": [
            "Please enter an element of the list or press enter to stop. helo\n",
            "Please enter an element of the list or press enter to stop. anis\n",
            "Please enter an element of the list or press enter to stop. hi\n",
            "Please enter an element of the list or press enter to stop. anis\n",
            "Please enter an element of the list or press enter to stop. \n",
            "helo\n"
          ]
        }
      ]
    },
    {
      "cell_type": "code",
      "source": [
        "def get_last_element(last):\n",
        "    print(last[len(last) - 1])\n",
        "\n",
        "def get_last():\n",
        "    last = []\n",
        "    elem: str = input(\"enter one element of the list at a time and returns the resulting list. \")\n",
        "    while elem != \"\":\n",
        "        last.append(elem)\n",
        "        elem = input(\"enter element of the list or press enter to stop. \")\n",
        "    return last\n",
        "\n",
        "def main():\n",
        "    last = get_last()\n",
        "    get_last_element(last)\n",
        "main()"
      ],
      "metadata": {
        "colab": {
          "base_uri": "https://localhost:8080/"
        },
        "id": "ts4eDsWEQ97R",
        "outputId": "4c653bf2-54ad-4e2a-858c-67bff53f7a04"
      },
      "execution_count": null,
      "outputs": [
        {
          "output_type": "stream",
          "name": "stdout",
          "text": [
            "enter one element of the list at a time and returns the resulting list. helo\n",
            "enter element of the list or press enter to stop. anis\n",
            "enter element of the list or press enter to stop. hi\n",
            "enter element of the list or press enter to stop. anis\n",
            "enter element of the list or press enter to stop. \n",
            "anis\n"
          ]
        }
      ]
    },
    {
      "cell_type": "code",
      "source": [
        "def main():\n",
        "  list = []\n",
        "  val = input(\"Enter a value: \")\n",
        "  while val != \"\":\n",
        "    list.append(val)\n",
        "    val = input(\"Enter a value: \")\n",
        "  print(f\"Here's the list: {list}\")\n",
        "main()\n"
      ],
      "metadata": {
        "colab": {
          "base_uri": "https://localhost:8080/"
        },
        "id": "HGUxhVwRbi_5",
        "outputId": "3d5f1711-6e6a-4878-95a1-2c5db4c4ef9f"
      },
      "execution_count": null,
      "outputs": [
        {
          "output_type": "stream",
          "name": "stdout",
          "text": [
            "Enter a value: 1\n",
            "Enter a value: 2\n",
            "Enter a value: 3\n",
            "Enter a value: \n",
            "Here's the list: ['1', '2', '3']\n"
          ]
        }
      ]
    },
    {
      "cell_type": "code",
      "source": [
        "MAX_LENGTH : int = 3\n",
        "\n",
        "def shorten(lst):\n",
        "    while len(lst) > MAX_LENGTH:\n",
        "        last_elem = lst.pop()\n",
        "        print(last_elem)\n",
        "\n",
        "def get_lst():\n",
        "    lst = []\n",
        "    elem = input(\"Please enter an element of the list or press enter to stop. \")\n",
        "    while elem != \"\":\n",
        "        lst.append(elem)\n",
        "        elem = input(\"Please enter an element of the list or press enter to stop. \")\n",
        "    return lst\n",
        "\n",
        "def main():\n",
        "    lst = get_lst()\n",
        "    shorten(lst)\n",
        "main()"
      ],
      "metadata": {
        "colab": {
          "base_uri": "https://localhost:8080/"
        },
        "id": "dzaSzbaKgvKO",
        "outputId": "0cea3603-3ae1-429e-9549-80fc1f7415c4"
      },
      "execution_count": null,
      "outputs": [
        {
          "output_type": "stream",
          "name": "stdout",
          "text": [
            "Please enter an element of the list or press enter to stop. 1\n",
            "Please enter an element of the list or press enter to stop. 2\n",
            "Please enter an element of the list or press enter to stop. 3\n",
            "Please enter an element of the list or press enter to stop. 4\n",
            "Please enter an element of the list or press enter to stop. 5\n",
            "Please enter an element of the list or press enter to stop. 6\n",
            "Please enter an element of the list or press enter to stop. \n",
            "6\n",
            "5\n",
            "4\n"
          ]
        }
      ]
    },
    {
      "cell_type": "code",
      "source": [
        "Peturksbouipo: int = 16\n",
        "Stanlau: int = 20\n",
        "Mayengua: int = 48\n",
        "\n",
        "def main():\n",
        "  user_input = int(input(\"How old are you? \"))\n",
        "\n",
        "  if user_input >= Peturksbouipo:\n",
        "    print(f\"You can vote in Peturksbouipo where the voting age is {Peturksbouipo}. \")\n",
        "  else:\n",
        "    print(f\"You cannot vote in Peturksbouipo where the voting age is {Peturksbouipo} .\")\n",
        "\n",
        "  if user_input >= Stanlau:\n",
        "    print(f\"You can vote in Peturksbouipo where the voting age is {Stanlau}. \")\n",
        "  else:\n",
        "    print(f\"You cannot vote in Peturksbouipo where the voting age is {Stanlau} .\")\n",
        "\n",
        "  if user_input >= Mayengua:\n",
        "    print(f\"You can vote in Peturksbouipo where the voting age is {Mayengua}. \")\n",
        "  else:\n",
        "    print(f\"You cannot vote in Peturksbouipo where the voting age is {Mayengua} .\")\n",
        "\n",
        "main()"
      ],
      "metadata": {
        "colab": {
          "base_uri": "https://localhost:8080/"
        },
        "id": "0jfP7X89hvfI",
        "outputId": "3e2c7999-7f78-4b41-806d-378f11a2f78a"
      },
      "execution_count": null,
      "outputs": [
        {
          "output_type": "stream",
          "name": "stdout",
          "text": [
            "How old are you? 16\n",
            "You can vote in Peturksbouipo where the voting age is 16. \n",
            "You cannot vote in Peturksbouipo where the voting age is 20 .\n",
            "You cannot vote in Peturksbouipo where the voting age is 48 .\n"
          ]
        }
      ]
    },
    {
      "cell_type": "code",
      "source": [
        "def main():\n",
        "    year = int(input('Please input a year: '))\n",
        "    if year % 4 == 0:\n",
        "        if year % 100 == 0:\n",
        "            if year % 400 == 0:\n",
        "                print(\"That's a leap year!\")\n",
        "            else:\n",
        "                print(\"That's not a leap year.\")\n",
        "        else:\n",
        "            print(\"That's a leap year!\")\n",
        "    else:\n",
        "        print(\"That's not a leap year.\")\n",
        "main()"
      ],
      "metadata": {
        "colab": {
          "base_uri": "https://localhost:8080/"
        },
        "id": "Wgja2yxylHkr",
        "outputId": "3592ad90-c301-49cd-9d31-8bbdeb96e0d5"
      },
      "execution_count": null,
      "outputs": [
        {
          "output_type": "stream",
          "name": "stdout",
          "text": [
            "Please input a year: 4\n",
            "That's a leap year!\n"
          ]
        }
      ]
    },
    {
      "cell_type": "code",
      "source": [
        "from IPython.display import display, Markdown\n",
        "\n",
        "MINIMUM_HEIGHT: int = 50\n",
        "\n",
        "def main():\n",
        "    while True:\n",
        "        user_input = float(input(\"How tall are you? \"))\n",
        "\n",
        "        if user_input >= MINIMUM_HEIGHT:\n",
        "            display(Markdown(\"***You're tall enough to ride!*** \"))\n",
        "            break\n",
        "        else:\n",
        "            display(Markdown(\"***You're not tall enough to ride! Try again.*** \"))\n",
        "main()"
      ],
      "metadata": {
        "colab": {
          "base_uri": "https://localhost:8080/",
          "height": 110
        },
        "id": "IUD99-Ximdu9",
        "outputId": "c7260524-4cd2-4239-cc2f-91c47c29088a"
      },
      "execution_count": null,
      "outputs": [
        {
          "name": "stdout",
          "output_type": "stream",
          "text": [
            "How tall are you? 48\n"
          ]
        },
        {
          "output_type": "display_data",
          "data": {
            "text/plain": [
              "<IPython.core.display.Markdown object>"
            ],
            "text/markdown": "***You're not tall enough to ride! Try again.*** "
          },
          "metadata": {}
        },
        {
          "name": "stdout",
          "output_type": "stream",
          "text": [
            "How tall are you? 50\n"
          ]
        },
        {
          "output_type": "display_data",
          "data": {
            "text/plain": [
              "<IPython.core.display.Markdown object>"
            ],
            "text/markdown": "***You're tall enough to ride!*** "
          },
          "metadata": {}
        }
      ]
    },
    {
      "cell_type": "code",
      "source": [
        "import random\n",
        "\n",
        "MIN_VALUE : int = 1\n",
        "MAX_VALUE : int = 100\n",
        "\n",
        "def main():\n",
        "  for _ in range(10):\n",
        "    print(random.randint(MIN_VALUE, MAX_VALUE ), end=\" \")\n",
        "main()"
      ],
      "metadata": {
        "colab": {
          "base_uri": "https://localhost:8080/"
        },
        "id": "1CUF1G62svji",
        "outputId": "d4324f98-f22d-4a30-fa76-578e0a3f8552"
      },
      "execution_count": null,
      "outputs": [
        {
          "output_type": "stream",
          "name": "stdout",
          "text": [
            "81 64 4 10 72 61 48 28 25 31 "
          ]
        }
      ]
    },
    {
      "cell_type": "code",
      "source": [
        "def get_user_number():\n",
        "    user_number = []\n",
        "    while True:\n",
        "        user_input = input(\"Enter a number: \")\n",
        "        if user_input == \"\":\n",
        "            break\n",
        "        num = int(user_input)\n",
        "        user_number.append(num)\n",
        "    return user_number\n",
        "\n",
        "def count_num(num_lst):\n",
        "    num_dict = {}\n",
        "    for num in num_lst:\n",
        "        if num not in num_dict:\n",
        "            num_dict[num] = 1\n",
        "        else:\n",
        "            num_dict[num] += 1\n",
        "    return num_dict\n",
        "\n",
        "def print_count(num_dict):\n",
        "    for num in num_dict:\n",
        "        print(f\"{num} appears {num_dict[num]} times \")\n",
        "\n",
        "def main():\n",
        "    user_number = get_user_number()\n",
        "    num_dict = count_num(user_number)\n",
        "    print_count(num_dict)\n",
        "\n",
        "main()"
      ],
      "metadata": {
        "colab": {
          "base_uri": "https://localhost:8080/"
        },
        "id": "91WbTsJgtMiL",
        "outputId": "cc2914ae-b139-4c34-812f-9a1a537a1885"
      },
      "execution_count": null,
      "outputs": [
        {
          "output_type": "stream",
          "name": "stdout",
          "text": [
            "Enter a number: 4\n",
            "Enter a number: 6\n",
            "Enter a number: 1\n",
            "Enter a number: \n",
            "4 appears 1 times \n",
            "6 appears 1 times \n",
            "1 appears 1 times \n"
          ]
        }
      ]
    },
    {
      "cell_type": "code",
      "source": [
        "def read_phone_numbers():\n",
        "  phonebook = {}\n",
        "  while True:\n",
        "    name = input(\"Name: \")\n",
        "    if name == \"\":\n",
        "      break\n",
        "    number = input(\"Number:\")\n",
        "    phonebook[name] = number\n",
        "  return phonebook\n",
        "\n",
        "def print_phonebook(phonebook):\n",
        "    for name in phonebook:\n",
        "      print(f\"{name}: {phonebook[name]}\")\n",
        "\n",
        "def lookup_numbers(phonebook):\n",
        "    while True:\n",
        "        name = input(\"Enter name to lookup: \")\n",
        "        if name == \"\":\n",
        "            break\n",
        "        if name not in phonebook:\n",
        "            print(f\"{name} is not in the phonebook\")\n",
        "        else:\n",
        "            print(phonebook[name])\n",
        "\n",
        "def main():\n",
        "    phonebook = read_phone_numbers()\n",
        "    print_phonebook(phonebook)\n",
        "    lookup_numbers(phonebook)\n",
        "main()"
      ],
      "metadata": {
        "colab": {
          "base_uri": "https://localhost:8080/"
        },
        "id": "ZU3KuI730UY3",
        "outputId": "2e74c6e0-35ce-4802-bd99-c3ce7aa0f295"
      },
      "execution_count": null,
      "outputs": [
        {
          "name": "stdout",
          "output_type": "stream",
          "text": [
            "Name: anis\n",
            "Number:8\n",
            "Name: hanif\n",
            "Number:10\n",
            "Name: \n",
            "anis: 8\n",
            "hanif: 10\n",
            "Enter name to lookup: anis\n",
            "8\n",
            "Enter name to lookup: \n"
          ]
        }
      ]
    },
    {
      "cell_type": "code",
      "source": [
        "from IPython.display import display, Markdown\n",
        "\n",
        "def main():\n",
        "  fruits = {'apple': 1.5, 'durian': 50, 'jackfruit': 80, 'kiwi': 1, 'rambutan': 1.5, 'mango': 5}\n",
        "  total_cost = 0\n",
        "  for fruit_name in fruits:\n",
        "      price = fruits[fruit_name]\n",
        "      amount_bought = int(input(f\"How many {fruit_name} do you want to buy?: \"))\n",
        "      total_cost += price * amount_bought\n",
        "  display(Markdown(f\"your total cost is: ***${total_cost}***\"))\n",
        "main()"
      ],
      "metadata": {
        "colab": {
          "base_uri": "https://localhost:8080/",
          "height": 150
        },
        "id": "2aYSaS_T4914",
        "outputId": "3098a1fb-7065-462c-f242-1da84562cf2f"
      },
      "execution_count": null,
      "outputs": [
        {
          "name": "stdout",
          "output_type": "stream",
          "text": [
            "How many apple do you want to buy?: 1\n",
            "How many durian do you want to buy?: 1\n",
            "How many jackfruit do you want to buy?: 1\n",
            "How many kiwi do you want to buy?: 1\n",
            "How many rambutan do you want to buy?: 1\n",
            "How many mango do you want to buy?: 1\n"
          ]
        },
        {
          "output_type": "display_data",
          "data": {
            "text/plain": [
              "<IPython.core.display.Markdown object>"
            ],
            "text/markdown": "your total cost is: ***$139.0***"
          },
          "metadata": {}
        }
      ]
    },
    {
      "cell_type": "code",
      "source": [
        "from hashlib import sha256\n",
        "\n",
        "def login(email, stored_logins, password_to_check):\n",
        "    \"\"\"\n",
        "    Returns True if the hash of the password we are checking matches the one in stored_logins\n",
        "    for a specific email. Otherwise, returns False.\n",
        "\n",
        "    email: the email we are checking the password for\n",
        "    stored_logins: a dictionary pointing from an email to its hashed password\n",
        "    password_to_check: a password we want to test alongside the email to login with\n",
        "    \"\"\"\n",
        "\n",
        "    if stored_logins[email] == hash_password(password_to_check):\n",
        "        return True\n",
        "\n",
        "    return False\n",
        "\n",
        "# There is no need to edit code beyond this point\n",
        "\n",
        "def hash_password(password):\n",
        "    \"\"\"\n",
        "    Takes in a password and returns the SHA256 hashed value for that specific password.\n",
        "\n",
        "    Inputs:\n",
        "        password: the password we want\n",
        "\n",
        "    Outputs:\n",
        "        the hashed form of the input password\n",
        "    \"\"\"\n",
        "\n",
        "    return sha256(password.encode()).hexdigest()\n",
        "\n",
        "def main():\n",
        "    # stored_logins is a dictionary with emails as keys and hashed passwords as values\n",
        "    stored_logins = {\n",
        "        \"example@gmail.com\": \"5e884898da28047151d0e56f8dc6292773603d0d6aabbdd62a11ef721d1542d8\",\n",
        "        \"code_in_placer@cip.org\": \"973607a4ae7b4cf7d96a100b0fb07e8519cc4f70441d41214a9f811577bb06cc\",\n",
        "        \"student@stanford.edu\": \"882c6df720fd99f5eebb1581a1cf975625cea8a160283011c0b9512bb56c95fb\"\n",
        "    }\n",
        "\n",
        "    print(login(\"example@gmail.com\", stored_logins, \"word\"))\n",
        "    print(login(\"example@gmail.com\", stored_logins, \"password\"))\n",
        "\n",
        "    print(login(\"code_in_placer@cip.org\", stored_logins, \"Karel\"))\n",
        "    print(login(\"code_in_placer@cip.org\", stored_logins, \"karel\"))\n",
        "\n",
        "    print(login(\"student@stanford.edu\", stored_logins, \"password\"))\n",
        "    print(login(\"student@stanford.edu\", stored_logins, \"123!456?789\"))\n",
        "\n",
        "main()"
      ],
      "metadata": {
        "colab": {
          "base_uri": "https://localhost:8080/"
        },
        "id": "fQKx1w7e7020",
        "outputId": "dea54f23-7090-4ded-a9ea-bebe976c3c3a"
      },
      "execution_count": null,
      "outputs": [
        {
          "output_type": "stream",
          "name": "stdout",
          "text": [
            "False\n",
            "True\n",
            "False\n",
            "True\n",
            "False\n",
            "True\n"
          ]
        }
      ]
    },
    {
      "cell_type": "code",
      "source": [
        "import random\n",
        "\n",
        "def main():\n",
        "    secret_number = random.randint(1, 2)\n",
        "    print(\"I am thinking of a number between 1 and 99...\")\n",
        "\n",
        "    guess = int(input(\"Enter a guess: \"))\n",
        "    while guess != secret_number:\n",
        "        if guess < secret_number:\n",
        "            print(\"Your guess is too low\")\n",
        "        else:\n",
        "            print(\"Your guess is too high\")\n",
        "\n",
        "        print()\n",
        "        guess = int(input(\"Enter a new guess: \"))\n",
        "\n",
        "    print(f\"Congrats! The number was: {secret_number}\")\n",
        "\n",
        "main()"
      ],
      "metadata": {
        "colab": {
          "base_uri": "https://localhost:8080/"
        },
        "id": "khzraLGFAQje",
        "outputId": "fee181ed-875d-4e19-f5ea-c98cc161a1d1"
      },
      "execution_count": null,
      "outputs": [
        {
          "output_type": "stream",
          "name": "stdout",
          "text": [
            "I am thinking of a number between 1 and 99...\n",
            "Enter a guess: 0\n",
            "Your guess is too low\n",
            "\n",
            "Enter a new guess: 1\n",
            "Your guess is too low\n",
            "\n",
            "Enter a new guess: 3\n",
            "Your guess is too high\n",
            "\n",
            "Enter a new guess: 2\n",
            "Congrats! The number was: 2\n"
          ]
        }
      ]
    },
    {
      "cell_type": "code",
      "source": [
        "MAX_TERM_VALUE: int = 10000\n",
        "\n",
        "def main():\n",
        "  curr_term = 0\n",
        "  next_term = 1\n",
        "  while curr_term <= MAX_TERM_VALUE:\n",
        "    print(curr_term)\n",
        "    term_after_next = curr_term + next_term\n",
        "    curr_term = next_term\n",
        "    next_term = term_after_next\n",
        "main()"
      ],
      "metadata": {
        "id": "D59WGQXnLiL8",
        "colab": {
          "base_uri": "https://localhost:8080/"
        },
        "outputId": "d9096d27-7fb9-4b53-960a-c50a23b6e87e"
      },
      "execution_count": null,
      "outputs": [
        {
          "output_type": "stream",
          "name": "stdout",
          "text": [
            "0\n",
            "1\n",
            "1\n",
            "2\n",
            "3\n",
            "5\n",
            "8\n",
            "13\n",
            "21\n",
            "34\n",
            "55\n",
            "89\n",
            "144\n",
            "233\n",
            "377\n",
            "610\n",
            "987\n",
            "1597\n",
            "2584\n",
            "4181\n",
            "6765\n"
          ]
        }
      ]
    },
    {
      "cell_type": "code",
      "source": [
        "def main():\n",
        "    for i in range(20):\n",
        "        print(i * 2, end=\" \")\n",
        "main()"
      ],
      "metadata": {
        "colab": {
          "base_uri": "https://localhost:8080/"
        },
        "id": "lDJS7h9EO35e",
        "outputId": "39f72e92-3f6c-4e22-8989-fbad32488d82"
      },
      "execution_count": null,
      "outputs": [
        {
          "output_type": "stream",
          "name": "stdout",
          "text": [
            "0 2 4 6 8 10 12 14 16 18 20 22 24 26 28 30 32 34 36 38 "
          ]
        }
      ]
    },
    {
      "cell_type": "code",
      "source": [
        "AFFIRMATION : str = \"I am capable of doing anything I put my mind to.\"\n",
        "\n",
        "def main():\n",
        "    print(f\"Please type the following affirmation: {AFFIRMATION}\")\n",
        "\n",
        "    user_feedback = input()\n",
        "    while user_feedback != AFFIRMATION:\n",
        "        print(\"That was not the affirmation.\")\n",
        "        print(f\"Please type the following affirmation: {AFFIRMATION}\")\n",
        "        user_feedback = input()\n",
        "\n",
        "    print(\"That's right! :)\")\n",
        "main()"
      ],
      "metadata": {
        "colab": {
          "base_uri": "https://localhost:8080/"
        },
        "id": "uFRPU1E5PlrT",
        "outputId": "0eda034a-920b-44d4-9354-1cf05cbbd90a"
      },
      "execution_count": null,
      "outputs": [
        {
          "output_type": "stream",
          "name": "stdout",
          "text": [
            "Please type the following affirmation: I am capable of doing anything I put my mind to.\n",
            "I am capable of doing anything I put my mind to.\n",
            "That's right! :)\n"
          ]
        }
      ]
    },
    {
      "cell_type": "code",
      "source": [
        "def main():\n",
        "    for i in range(10, 0, -1):\n",
        "        print(i, end=\" \")\n",
        "    print(\"Liftoff!\")\n",
        "main()"
      ],
      "metadata": {
        "colab": {
          "base_uri": "https://localhost:8080/"
        },
        "id": "oOn4umxXbDVV",
        "outputId": "69f82498-d7dd-4375-ec93-8ee75e600262"
      },
      "execution_count": null,
      "outputs": [
        {
          "output_type": "stream",
          "name": "stdout",
          "text": [
            "10 9 8 7 6 5 4 3 2 1 Liftoff!\n"
          ]
        }
      ]
    },
    {
      "cell_type": "code",
      "source": [
        "def main():\n",
        "    curr_value = int(input(\"Enter a number: \"))\n",
        "    while curr_value < 100:\n",
        "        curr_value = curr_value * 2\n",
        "        print(curr_value, end=\" \")\n",
        "main()"
      ],
      "metadata": {
        "colab": {
          "base_uri": "https://localhost:8080/"
        },
        "id": "FXE3TbMJdblU",
        "outputId": "9d4e5f88-6049-438b-eb75-c12a7317548f"
      },
      "execution_count": null,
      "outputs": [
        {
          "output_type": "stream",
          "name": "stdout",
          "text": [
            "Enter a number: 2\n",
            "4 8 16 32 64 128 "
          ]
        }
      ]
    },
    {
      "cell_type": "code",
      "source": [
        "def average(a: float, b: float):\n",
        "  sum = a + b\n",
        "  return sum / 2\n",
        "def main():\n",
        "  avg_1 = average(0, 10)\n",
        "  avg_2 = average(8, 10)\n",
        "  final = average(avg_1, avg_2)\n",
        "  print(final)\n",
        "main()"
      ],
      "metadata": {
        "colab": {
          "base_uri": "https://localhost:8080/"
        },
        "id": "EzzlbeIyBlTR",
        "outputId": "564dee7b-9841-4a47-a291-21f974e8d069"
      },
      "execution_count": null,
      "outputs": [
        {
          "output_type": "stream",
          "name": "stdout",
          "text": [
            "7.0\n"
          ]
        }
      ]
    },
    {
      "cell_type": "code",
      "source": [
        "import random\n",
        "\n",
        "DONE_LIKELIHOOD = 0.3\n",
        "\n",
        "def chaotic_counting():\n",
        "  for i in range(10):\n",
        "    curr_num = i + 1\n",
        "    if done():\n",
        "      return\n",
        "    print(curr_num)\n",
        "def done():\n",
        "  if random.random() > DONE_LIKELIHOOD:\n",
        "    return True\n",
        "  return False\n",
        "def main():\n",
        "  print(\"I'm going to count until 10 or until I feel like stopping, whichever comes first.\")\n",
        "  chaotic_counting()\n",
        "  print(\"I'm done\")\n",
        "main()"
      ],
      "metadata": {
        "colab": {
          "base_uri": "https://localhost:8080/"
        },
        "id": "4btLZlWzC4L5",
        "outputId": "284f07ed-6960-425c-f74d-9dff6635ab11"
      },
      "execution_count": null,
      "outputs": [
        {
          "output_type": "stream",
          "name": "stdout",
          "text": [
            "I'm going to count until 10 or until I feel like stopping, whichever comes first.\n",
            "I'm done\n"
          ]
        }
      ]
    },
    {
      "cell_type": "code",
      "source": [
        "def count_even(lst):\n",
        "  count = 0\n",
        "  for num in lst:\n",
        "    if num % 2 == 0:\n",
        "      count += 1\n",
        "  print(count)\n",
        "def get_list_of_ints():\n",
        "  lst = []\n",
        "  user_input = input(\"Enter an integer or press enter to stop: \")\n",
        "  while user_input != \"\":\n",
        "    lst.append(int(user_input))\n",
        "    user_input = input(\"Enter an integer or press enter to stop: \")\n",
        "\n",
        "  return lst\n",
        "def main():\n",
        "    lst = get_list_of_ints()\n",
        "    count_even(lst)\n",
        "main(25)"
      ],
      "metadata": {
        "colab": {
          "base_uri": "https://localhost:8080/"
        },
        "id": "e0dWAO6gFN9G",
        "outputId": "b6487fe5-602c-4720-baae-b29b78711322"
      },
      "execution_count": null,
      "outputs": [
        {
          "output_type": "stream",
          "name": "stdout",
          "text": [
            "Enter an integer or press enter to stop: 1\n",
            "Enter an integer or press enter to stop: 2\n",
            "Enter an integer or press enter to stop: \n",
            "1\n"
          ]
        }
      ]
    },
    {
      "cell_type": "code",
      "source": [
        "from IPython.display import display, Markdown\n",
        "\n",
        "def double(num: int):\n",
        "  return num * 2\n",
        "def main():\n",
        "  num = int(input(\"Enter a number: \"))\n",
        "  num_times_2 = double(num)\n",
        "  display(Markdown(f\"Double that is ***{num_times_2}***\"))\n",
        "main()"
      ],
      "metadata": {
        "colab": {
          "base_uri": "https://localhost:8080/",
          "height": 64
        },
        "id": "5zm21wxiG6PS",
        "outputId": "ad7c2e28-58ff-4782-8d6d-6a0e01c38064"
      },
      "execution_count": null,
      "outputs": [
        {
          "name": "stdout",
          "output_type": "stream",
          "text": [
            "Enter a number: 2\n"
          ]
        },
        {
          "output_type": "display_data",
          "data": {
            "text/plain": [
              "<IPython.core.display.Markdown object>"
            ],
            "text/markdown": "Double that is ***4***"
          },
          "metadata": {}
        }
      ]
    },
    {
      "cell_type": "code",
      "source": [
        "def get_name():\n",
        "  return \"Sophia\"\n",
        "def main():\n",
        "  name = get_name()\n",
        "  print(f\"Howdy {name}! 🤠\")\n",
        "main()"
      ],
      "metadata": {
        "colab": {
          "base_uri": "https://localhost:8080/"
        },
        "id": "Kc74ClfjJNiu",
        "outputId": "1d1339b2-c473-4ee7-adc4-9e2bd53a1169"
      },
      "execution_count": null,
      "outputs": [
        {
          "output_type": "stream",
          "name": "stdout",
          "text": [
            "Howdy Sophia! 🤠\n"
          ]
        }
      ]
    },
    {
      "cell_type": "code",
      "source": [
        "def main():\n",
        "  for i in range(10):\n",
        "    if is_odd(i):\n",
        "      print('odd')\n",
        "    else:\n",
        "      print('even')\n",
        "def is_odd(value: int):\n",
        "  remainder = value % 2\n",
        "  return remainder == 1\n",
        "main()"
      ],
      "metadata": {
        "colab": {
          "base_uri": "https://localhost:8080/"
        },
        "id": "PrGfvmoQJ-2o",
        "outputId": "cb981df5-c04f-410c-c898-5a879578e69f"
      },
      "execution_count": null,
      "outputs": [
        {
          "output_type": "stream",
          "name": "stdout",
          "text": [
            "even\n",
            "odd\n",
            "even\n",
            "odd\n",
            "even\n",
            "odd\n",
            "even\n",
            "odd\n",
            "even\n",
            "odd\n"
          ]
        }
      ]
    },
    {
      "cell_type": "code",
      "source": [
        "def print_divisors(num: int):\n",
        "    print(f\"Here are the divisors of {num}\")\n",
        "    for i in range(num):\n",
        "        curr_divisor = i + 1\n",
        "        if num % curr_divisor == 0:\n",
        "            print(curr_divisor)\n",
        "def main():\n",
        "    num = int(input(\"Enter a number: \"))\n",
        "    print_divisors(num)\n",
        "main()"
      ],
      "metadata": {
        "colab": {
          "base_uri": "https://localhost:8080/"
        },
        "id": "MoCQA4_KLL-1",
        "outputId": "fbc7f451-2b15-45bb-81e8-b9b69908b1b6"
      },
      "execution_count": null,
      "outputs": [
        {
          "output_type": "stream",
          "name": "stdout",
          "text": [
            "Enter a number: 12\n",
            "Here are the divisors of 12\n",
            "1\n",
            "2\n",
            "3\n",
            "4\n",
            "6\n",
            "12\n"
          ]
        }
      ]
    },
    {
      "cell_type": "code",
      "source": [
        "def print_multiple(message: str, repeats: int):\n",
        "  for i in range(repeats):\n",
        "    print(message)\n",
        "def main():\n",
        "  message = input(\"Please type a message: \")\n",
        "  repeats = int(input(\"Enter a number of times to repeat your message: \"))\n",
        "  print_multiple(message, repeats)\n",
        "main()"
      ],
      "metadata": {
        "colab": {
          "base_uri": "https://localhost:8080/"
        },
        "id": "D98UZ90EL6gP",
        "outputId": "fe190f0f-e8ff-4469-cc40-8c475530489a"
      },
      "execution_count": null,
      "outputs": [
        {
          "output_type": "stream",
          "name": "stdout",
          "text": [
            "Please type a message: Hello\n",
            "Enter a number of times to repeat your message: 6\n",
            "Hello\n",
            "Hello\n",
            "Hello\n",
            "Hello\n",
            "Hello\n",
            "Hello\n"
          ]
        }
      ]
    },
    {
      "cell_type": "code",
      "source": [
        "def make_sentence(word, part_of_speech):\n",
        "    if part_of_speech == 0:\n",
        "        print(f\"I am excited to add this {word} to my vast collection of them!\")\n",
        "    elif part_of_speech == 1:\n",
        "        print(f\"It's so nice outside today it makes me want to {word}!\")\n",
        "    elif part_of_speech == 2:\n",
        "        print(f\"Looking out my window, the sky is big and {word}!\")\n",
        "    else:\n",
        "        print(\"Part of speech must be 0, 1, or 2! Can't make a sentence.\")\n",
        "def main():\n",
        "    word :  str = input(\"Please type a noun, verb, or adjective: \")\n",
        "    print(\"Is this a noun, verb, or adjective?\")\n",
        "    part_of_speech = int(input(\"Type 0 for noun, 1 for verb, 2 for adjective: \"))\n",
        "    make_sentence(word, part_of_speech)\n",
        "main()"
      ],
      "metadata": {
        "colab": {
          "base_uri": "https://localhost:8080/"
        },
        "id": "2nLVyK-JNZCB",
        "outputId": "396bc818-7c59-4d9a-cdba-fa35b555f966"
      },
      "execution_count": null,
      "outputs": [
        {
          "output_type": "stream",
          "name": "stdout",
          "text": [
            "Please type a noun, verb, or adjective: 0\n",
            "Is this a noun, verb, or adjective?\n",
            "Type 0 for noun, 1 for verb, 2 for adjective: 1\n",
            "It's so nice outside today it makes me want to 0!\n"
          ]
        }
      ]
    },
    {
      "cell_type": "code",
      "source": [
        "def print_ones_digit(num):\n",
        "  print(f\"The ones digit is {num % 10}\")\n",
        "def main():\n",
        "  num = int(input(\"Enter a number: \"))\n",
        "  print_ones_digit(num)\n",
        "main()"
      ],
      "metadata": {
        "colab": {
          "base_uri": "https://localhost:8080/"
        },
        "id": "6BTxfxPQOpk-",
        "outputId": "23a3331b-78c4-46b1-a880-c78c50b2a6b4"
      },
      "execution_count": null,
      "outputs": [
        {
          "output_type": "stream",
          "name": "stdout",
          "text": [
            "Enter a number: 42\n",
            "The ones digit is 2\n"
          ]
        }
      ]
    },
    {
      "cell_type": "code",
      "source": [
        "from IPython.display import display, Markdown\n",
        "\n",
        "ADULT_AGE: int = 18\n",
        "\n",
        "def is_adult(age: int):\n",
        "  if age >= ADULT_AGE:\n",
        "    return True\n",
        "  return False\n",
        "def main():\n",
        "  age: str = int(input(\"How old is this person?: \"))\n",
        "  display(Markdown(f\"***{is_adult(age)}***\"))\n",
        "main()"
      ],
      "metadata": {
        "colab": {
          "base_uri": "https://localhost:8080/",
          "height": 64
        },
        "id": "g_1P3k9tJxO7",
        "outputId": "af0caf87-f2fe-4d63-f097-9b5abe78324d"
      },
      "execution_count": null,
      "outputs": [
        {
          "name": "stdout",
          "output_type": "stream",
          "text": [
            "How old is this person?: 18\n"
          ]
        },
        {
          "output_type": "display_data",
          "data": {
            "text/plain": [
              "<IPython.core.display.Markdown object>"
            ],
            "text/markdown": "***True***"
          },
          "metadata": {}
        }
      ]
    },
    {
      "cell_type": "code",
      "source": [
        "from IPython.display import display, Markdown\n",
        "\n",
        "def greet(name):\n",
        "    return f\"Greetings ***{name}***!\"\n",
        "def main():\n",
        "    name: str = input(\"What's your name? \")\n",
        "    display(Markdown(greet(name)))\n",
        "main()"
      ],
      "metadata": {
        "id": "Ru9Fpe8XMEy-",
        "colab": {
          "base_uri": "https://localhost:8080/",
          "height": 64
        },
        "outputId": "b7493812-c573-4a7e-cf31-b904389395ee"
      },
      "execution_count": null,
      "outputs": [
        {
          "name": "stdout",
          "output_type": "stream",
          "text": [
            "What's your name? sophia\n"
          ]
        },
        {
          "output_type": "display_data",
          "data": {
            "text/plain": [
              "<IPython.core.display.Markdown object>"
            ],
            "text/markdown": "Greetings ***sophia***!"
          },
          "metadata": {}
        }
      ]
    },
    {
      "cell_type": "code",
      "source": [
        "def in_range(n, low, high):\n",
        "  if n >= low and n <= high:\n",
        "    return True\n",
        "  return False\n",
        "in_range(6, 2, 4)"
      ],
      "metadata": {
        "colab": {
          "base_uri": "https://localhost:8080/"
        },
        "id": "CmSnxf2gP5Lr",
        "outputId": "2c026cf4-66b5-4cb7-9b33-e0ce2bee1866"
      },
      "execution_count": null,
      "outputs": [
        {
          "output_type": "execute_result",
          "data": {
            "text/plain": [
              "False"
            ]
          },
          "metadata": {},
          "execution_count": 50
        }
      ]
    },
    {
      "cell_type": "code",
      "source": [
        "from IPython.display import display, Markdown\n",
        "\n",
        "def main():\n",
        "\tfruit : str = input(\"Enter a fruit: \")\n",
        "\tstock = num_in_stock(fruit)\n",
        "\tif stock == 0:\n",
        "\t\tprint(\"This fruit is not in stock.\")\n",
        "\telse:\n",
        "\t\tprint(\"This fruit is in stock! Here is how many:\")\n",
        "\t\tdisplay(Markdown(f\"***{stock}***\"))\n",
        "def num_in_stock(fruit):\n",
        "\tif fruit == 'apple':\n",
        "\t\treturn 2\n",
        "\tif fruit == 'durian':\n",
        "\t\treturn 4\n",
        "\tif fruit == 'pear':\n",
        "\t\treturn 1000\n",
        "\telse:\n",
        "\t\treturn 0\n",
        "main()"
      ],
      "metadata": {
        "colab": {
          "base_uri": "https://localhost:8080/",
          "height": 81
        },
        "id": "r4lhekb0RsC5",
        "outputId": "78e69723-6144-4522-f3c2-efd3489755c4"
      },
      "execution_count": null,
      "outputs": [
        {
          "output_type": "stream",
          "name": "stdout",
          "text": [
            "Enter a fruit: pear\n",
            "This fruit is in stock! Here is how many:\n"
          ]
        },
        {
          "output_type": "display_data",
          "data": {
            "text/plain": [
              "<IPython.core.display.Markdown object>"
            ],
            "text/markdown": "***1000***"
          },
          "metadata": {}
        }
      ]
    },
    {
      "cell_type": "code",
      "source": [
        "def get_user_info():\n",
        "    first_name: str = input(\"What is your first name?: \")\n",
        "    last_name: str = input(\"What is your last name?: \")\n",
        "    email_address : str = input(\"What is your email address?: \")\n",
        "    return first_name, last_name, email_address\n",
        "def main():\n",
        "    user_data = get_user_info()\n",
        "    print(f\"Received the following user data: {user_data}\")\n",
        "main()"
      ],
      "metadata": {
        "colab": {
          "base_uri": "https://localhost:8080/"
        },
        "id": "m4Tng1TUS6Id",
        "outputId": "878a8bfc-78b3-4c6d-b271-225d55f5a0a8"
      },
      "execution_count": null,
      "outputs": [
        {
          "output_type": "stream",
          "name": "stdout",
          "text": [
            "What is your first name?: anis\n",
            "What is your last name?: hanif\n",
            "What is your email address?: anishanif946@gmail.com\n",
            "Received the following user data: ('anis', 'hanif', 'anishanif946@gmail.com')\n"
          ]
        }
      ]
    },
    {
      "cell_type": "code",
      "source": [
        "def main():\n",
        "\tnum: int = 7\n",
        "\tnum = subtract_seven(num)\n",
        "\tprint(f\"this should be zero: {num}\")\n",
        "def subtract_seven(num):\n",
        "\tnum = num - 7\n",
        "\treturn num\n",
        "main()"
      ],
      "metadata": {
        "colab": {
          "base_uri": "https://localhost:8080/"
        },
        "id": "M8GlwehWTYoz",
        "outputId": "137a7ac6-c09f-4a38-d201-901472d0788a"
      },
      "execution_count": null,
      "outputs": [
        {
          "output_type": "stream",
          "name": "stdout",
          "text": [
            "this should be zero: 0\n"
          ]
        }
      ]
    }
  ]
}