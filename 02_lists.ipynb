{
  "nbformat": 4,
  "nbformat_minor": 0,
  "metadata": {
    "colab": {
      "provenance": [],
      "authorship_tag": "ABX9TyMhSt2FCSzYqZZ45Laz3YKe",
      "include_colab_link": true
    },
    "kernelspec": {
      "name": "python3",
      "display_name": "Python 3"
    },
    "language_info": {
      "name": "python"
    }
  },
  "cells": [
    {
      "cell_type": "markdown",
      "metadata": {
        "id": "view-in-github",
        "colab_type": "text"
      },
      "source": [
        "<a href=\"https://colab.research.google.com/github/anishanif0012/project_4_assignments/blob/main/02_lists.ipynb\" target=\"_parent\"><img src=\"https://colab.research.google.com/assets/colab-badge.svg\" alt=\"Open In Colab\"/></a>"
      ]
    },
    {
      "cell_type": "code",
      "execution_count": 1,
      "metadata": {
        "id": "w14wzb2VfMrd",
        "colab": {
          "base_uri": "https://localhost:8080/"
        },
        "outputId": "633812a9-1f0d-44ef-f3c7-ef5a54aeab2b"
      },
      "outputs": [
        {
          "output_type": "stream",
          "name": "stdout",
          "text": [
            "15\n"
          ]
        }
      ],
      "source": [
        "def main():\n",
        "  numbers: list[int] = [1, 2 ,3, 4, 5]\n",
        "  result = sum(numbers)\n",
        "  print(result)\n",
        "main()"
      ]
    },
    {
      "cell_type": "code",
      "source": [
        "def main():\n",
        "  double_numbers: list[int] =[1, 2, 3, 4]\n",
        "  for item in double_numbers:\n",
        "    item += item\n",
        "    print(item)\n",
        "main()"
      ],
      "metadata": {
        "id": "ZpzcOSFWfWdo",
        "colab": {
          "base_uri": "https://localhost:8080/"
        },
        "outputId": "c0c71bd1-bd03-424b-95dd-0ad93b3ea809"
      },
      "execution_count": 2,
      "outputs": [
        {
          "output_type": "stream",
          "name": "stdout",
          "text": [
            "2\n",
            "4\n",
            "6\n",
            "8\n"
          ]
        }
      ]
    },
    {
      "cell_type": "code",
      "source": [
        "from IPython.display import display, Markdown\n",
        "\n",
        "def add_three_copies(list, data):\n",
        "  for i in range(3):\n",
        "   list.append(data)\n",
        "\n",
        "def main():\n",
        "  message = input(\"Enter a message to copy: \")\n",
        "  list = []\n",
        "  display(Markdown(f\"list before: **{list}** \"))\n",
        "  add_three_copies(list, message)\n",
        "  display(Markdown(f\"list after: **{list}** \"))\n",
        "main()"
      ],
      "metadata": {
        "id": "dCpSQm8-fbO3",
        "colab": {
          "base_uri": "https://localhost:8080/",
          "height": 87
        },
        "outputId": "02a74934-5aba-4694-9479-48573067826b"
      },
      "execution_count": 3,
      "outputs": [
        {
          "name": "stdout",
          "output_type": "stream",
          "text": [
            "Enter a message to copy: heloworld\n"
          ]
        },
        {
          "output_type": "display_data",
          "data": {
            "text/plain": [
              "<IPython.core.display.Markdown object>"
            ],
            "text/markdown": "list before: **[]** "
          },
          "metadata": {}
        },
        {
          "output_type": "display_data",
          "data": {
            "text/plain": [
              "<IPython.core.display.Markdown object>"
            ],
            "text/markdown": "list after: **['heloworld', 'heloworld', 'heloworld']** "
          },
          "metadata": {}
        }
      ]
    },
    {
      "cell_type": "code",
      "source": [
        "def get_first_element(lst):\n",
        "    print(lst[0])\n",
        "\n",
        "def get_lst():\n",
        "    lst = []\n",
        "    elem: str = input(\"Please enter an element of the list or press enter to stop. \")\n",
        "    while elem != \"\":\n",
        "        lst.append(elem)\n",
        "        elem = input(\"Please enter an element of the list or press enter to stop. \")\n",
        "    return lst\n",
        "\n",
        "def main():\n",
        "    lst = get_lst()\n",
        "    get_first_element(lst)\n",
        "main()"
      ],
      "metadata": {
        "id": "m836cwTYfghK",
        "colab": {
          "base_uri": "https://localhost:8080/"
        },
        "outputId": "f63cd74e-603d-44b4-e414-40a9dc649bf5"
      },
      "execution_count": 5,
      "outputs": [
        {
          "output_type": "stream",
          "name": "stdout",
          "text": [
            "Please enter an element of the list or press enter to stop. helo\n",
            "Please enter an element of the list or press enter to stop. anis\n",
            "Please enter an element of the list or press enter to stop. hi\n",
            "Please enter an element of the list or press enter to stop. anis\n",
            "Please enter an element of the list or press enter to stop. \n",
            "helo\n"
          ]
        }
      ]
    },
    {
      "cell_type": "code",
      "source": [
        "def get_last_element(last):\n",
        "    print(last[len(last) - 1])\n",
        "\n",
        "def get_last():\n",
        "    last = []\n",
        "    elem: str = input(\"enter one element of the list at a time and returns the resulting list. \")\n",
        "    while elem != \"\":\n",
        "        last.append(elem)\n",
        "        elem = input(\"enter element of the list or press enter to stop. \")\n",
        "    return last\n",
        "\n",
        "def main():\n",
        "    last = get_last()\n",
        "    get_last_element(last)\n",
        "main()"
      ],
      "metadata": {
        "id": "hzlLSbWFfhFW",
        "colab": {
          "base_uri": "https://localhost:8080/"
        },
        "outputId": "8861fd01-459b-4a14-a0cd-34176c3bf50e"
      },
      "execution_count": 6,
      "outputs": [
        {
          "output_type": "stream",
          "name": "stdout",
          "text": [
            "enter one element of the list at a time and returns the resulting list. helo\n",
            "enter element of the list or press enter to stop. anis\n",
            "enter element of the list or press enter to stop. hi\n",
            "enter element of the list or press enter to stop. anis\n",
            "enter element of the list or press enter to stop. \n",
            "anis\n"
          ]
        }
      ]
    },
    {
      "cell_type": "code",
      "source": [
        "def main():\n",
        "  list = []\n",
        "  val = input(\"Enter a value: \")\n",
        "  while val != \"\":\n",
        "    list.append(val)\n",
        "    val = input(\"Enter a value: \")\n",
        "  print(f\"Here's the list: {list}\")\n",
        "main()\n"
      ],
      "metadata": {
        "id": "Vf2DRI6ffjbG",
        "colab": {
          "base_uri": "https://localhost:8080/"
        },
        "outputId": "c6d45d9e-a8cf-4750-e37c-6e16aedda75d"
      },
      "execution_count": 7,
      "outputs": [
        {
          "output_type": "stream",
          "name": "stdout",
          "text": [
            "Enter a value: 1\n",
            "Enter a value: 2\n",
            "Enter a value: 3\n",
            "Enter a value: \n",
            "Here's the list: ['1', '2', '3']\n"
          ]
        }
      ]
    },
    {
      "cell_type": "code",
      "source": [
        "MAX_LENGTH : int = 3\n",
        "\n",
        "def shorten(lst):\n",
        "    while len(lst) > MAX_LENGTH:\n",
        "        last_elem = lst.pop()\n",
        "        print(last_elem)\n",
        "\n",
        "def get_lst():\n",
        "    lst = []\n",
        "    elem = input(\"Please enter an element of the list or press enter to stop. \")\n",
        "    while elem != \"\":\n",
        "        lst.append(elem)\n",
        "        elem = input(\"Please enter an element of the list or press enter to stop. \")\n",
        "    return lst\n",
        "\n",
        "def main():\n",
        "    lst = get_lst()\n",
        "    shorten(lst)\n",
        "main()"
      ],
      "metadata": {
        "id": "MQICXcpeflOd",
        "colab": {
          "base_uri": "https://localhost:8080/"
        },
        "outputId": "99d21f54-a55d-44a6-c4be-faca68a176ff"
      },
      "execution_count": 9,
      "outputs": [
        {
          "output_type": "stream",
          "name": "stdout",
          "text": [
            "Please enter an element of the list or press enter to stop. 1\n",
            "Please enter an element of the list or press enter to stop. 2\n",
            "Please enter an element of the list or press enter to stop. 3\n",
            "Please enter an element of the list or press enter to stop. 4\n",
            "Please enter an element of the list or press enter to stop. 5\n",
            "Please enter an element of the list or press enter to stop. 6\n",
            "Please enter an element of the list or press enter to stop. \n",
            "6\n",
            "5\n",
            "4\n"
          ]
        }
      ]
    }
  ]
}